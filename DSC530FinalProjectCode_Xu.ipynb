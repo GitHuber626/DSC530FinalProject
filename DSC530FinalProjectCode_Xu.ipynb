{
 "cells": [
  {
   "cell_type": "markdown",
   "id": "e632b2da-b5be-44a9-b040-6cf4434f5d65",
   "metadata": {},
   "source": [
    "# DSC 530 Final Project - Is it more likely to have severe car accident during the night than during the day?"
   ]
  },
  {
   "cell_type": "markdown",
   "id": "35d9a55c-c8e8-4fa4-afda-3fed44dcf156",
   "metadata": {},
   "source": [
    "As I was reading about the latest version of Tesla FSD and it was talking how the FSD utilizes the end-to-end neural network to achieve the autonomous driving capability, the article mentions that according to the testing of Tesla reviewers on Youtube, they noticed the system is more confident during the night drive than previous generations. That triggers a question to me: Is it more likely to have severe car accident during the night than during the day? The reason for me to come up with this question is because I personally feel the visibility is reduced during the night, therefore increasing the probability of getting into a severe car accident than during the day, given the same speed at the same road since there could be factors such as human reponse will be slower. After effort on searching for related data, I found the data I'm interested on **[Kaggle.com](https://www.kaggle.com/datasets/sobhanmoosavi/us-accidents)** that provides US car accident data covering 49 states of the USA from February 2016 to March 2023."
   ]
  },
  {
   "cell_type": "markdown",
   "id": "f72453c2-b7e1-48b2-9bcf-bc51c7d603ec",
   "metadata": {},
   "source": [
    "## Step 1: Load the Dataset and Some Initial Review"
   ]
  },
  {
   "cell_type": "code",
   "execution_count": 4,
   "id": "20720e55-7c78-463a-9412-550ddf14f512",
   "metadata": {},
   "outputs": [
    {
     "name": "stdout",
     "output_type": "stream",
     "text": [
      "Dimensions of the dataset:  (7728394, 46)\n"
     ]
    }
   ],
   "source": [
    "import numpy as np\n",
    "import pandas as pd\n",
    "\n",
    "file_path = \"C:/Users/P3138554/OneDrive - Charter Communications/Documents/Data Science/Bellevue/DSC 530/US_Accidents_March23.csv\"\n",
    "df = pd.read_csv(file_path)\n",
    "\n",
    "print('Dimensions of the dataset: ', df.shape)"
   ]
  },
  {
   "cell_type": "markdown",
   "id": "52eef45b-0f93-4cf1-aa38-5118de106f6e",
   "metadata": {},
   "source": [
    "Check some sample data."
   ]
  },
  {
   "cell_type": "code",
   "execution_count": 6,
   "id": "b234a672-d10c-4507-9f4a-57d8658b58c8",
   "metadata": {},
   "outputs": [
    {
     "data": {
      "text/html": [
       "<div>\n",
       "<style scoped>\n",
       "    .dataframe tbody tr th:only-of-type {\n",
       "        vertical-align: middle;\n",
       "    }\n",
       "\n",
       "    .dataframe tbody tr th {\n",
       "        vertical-align: top;\n",
       "    }\n",
       "\n",
       "    .dataframe thead th {\n",
       "        text-align: right;\n",
       "    }\n",
       "</style>\n",
       "<table border=\"1\" class=\"dataframe\">\n",
       "  <thead>\n",
       "    <tr style=\"text-align: right;\">\n",
       "      <th></th>\n",
       "      <th>ID</th>\n",
       "      <th>Source</th>\n",
       "      <th>Severity</th>\n",
       "      <th>Start_Time</th>\n",
       "      <th>End_Time</th>\n",
       "      <th>Start_Lat</th>\n",
       "      <th>Start_Lng</th>\n",
       "      <th>End_Lat</th>\n",
       "      <th>End_Lng</th>\n",
       "      <th>Distance(mi)</th>\n",
       "      <th>Description</th>\n",
       "      <th>Street</th>\n",
       "      <th>City</th>\n",
       "      <th>County</th>\n",
       "      <th>State</th>\n",
       "      <th>Zipcode</th>\n",
       "      <th>Country</th>\n",
       "      <th>Timezone</th>\n",
       "      <th>Airport_Code</th>\n",
       "      <th>Weather_Timestamp</th>\n",
       "      <th>Temperature(F)</th>\n",
       "      <th>Wind_Chill(F)</th>\n",
       "      <th>Humidity(%)</th>\n",
       "      <th>Pressure(in)</th>\n",
       "      <th>Visibility(mi)</th>\n",
       "      <th>Wind_Direction</th>\n",
       "      <th>Wind_Speed(mph)</th>\n",
       "      <th>Precipitation(in)</th>\n",
       "      <th>Weather_Condition</th>\n",
       "      <th>Amenity</th>\n",
       "      <th>Bump</th>\n",
       "      <th>Crossing</th>\n",
       "      <th>Give_Way</th>\n",
       "      <th>Junction</th>\n",
       "      <th>No_Exit</th>\n",
       "      <th>Railway</th>\n",
       "      <th>Roundabout</th>\n",
       "      <th>Station</th>\n",
       "      <th>Stop</th>\n",
       "      <th>Traffic_Calming</th>\n",
       "      <th>Traffic_Signal</th>\n",
       "      <th>Turning_Loop</th>\n",
       "      <th>Sunrise_Sunset</th>\n",
       "      <th>Civil_Twilight</th>\n",
       "      <th>Nautical_Twilight</th>\n",
       "      <th>Astronomical_Twilight</th>\n",
       "    </tr>\n",
       "  </thead>\n",
       "  <tbody>\n",
       "    <tr>\n",
       "      <th>0</th>\n",
       "      <td>A-1</td>\n",
       "      <td>Source2</td>\n",
       "      <td>3</td>\n",
       "      <td>2016-02-08 05:46:00</td>\n",
       "      <td>2016-02-08 11:00:00</td>\n",
       "      <td>39.865147</td>\n",
       "      <td>-84.058723</td>\n",
       "      <td>NaN</td>\n",
       "      <td>NaN</td>\n",
       "      <td>0.01</td>\n",
       "      <td>Right lane blocked due to accident on I-70 Eas...</td>\n",
       "      <td>I-70 E</td>\n",
       "      <td>Dayton</td>\n",
       "      <td>Montgomery</td>\n",
       "      <td>OH</td>\n",
       "      <td>45424</td>\n",
       "      <td>US</td>\n",
       "      <td>US/Eastern</td>\n",
       "      <td>KFFO</td>\n",
       "      <td>2016-02-08 05:58:00</td>\n",
       "      <td>36.9</td>\n",
       "      <td>NaN</td>\n",
       "      <td>91.0</td>\n",
       "      <td>29.68</td>\n",
       "      <td>10.0</td>\n",
       "      <td>Calm</td>\n",
       "      <td>NaN</td>\n",
       "      <td>0.02</td>\n",
       "      <td>Light Rain</td>\n",
       "      <td>False</td>\n",
       "      <td>False</td>\n",
       "      <td>False</td>\n",
       "      <td>False</td>\n",
       "      <td>False</td>\n",
       "      <td>False</td>\n",
       "      <td>False</td>\n",
       "      <td>False</td>\n",
       "      <td>False</td>\n",
       "      <td>False</td>\n",
       "      <td>False</td>\n",
       "      <td>False</td>\n",
       "      <td>False</td>\n",
       "      <td>Night</td>\n",
       "      <td>Night</td>\n",
       "      <td>Night</td>\n",
       "      <td>Night</td>\n",
       "    </tr>\n",
       "    <tr>\n",
       "      <th>1</th>\n",
       "      <td>A-2</td>\n",
       "      <td>Source2</td>\n",
       "      <td>2</td>\n",
       "      <td>2016-02-08 06:07:59</td>\n",
       "      <td>2016-02-08 06:37:59</td>\n",
       "      <td>39.928059</td>\n",
       "      <td>-82.831184</td>\n",
       "      <td>NaN</td>\n",
       "      <td>NaN</td>\n",
       "      <td>0.01</td>\n",
       "      <td>Accident on Brice Rd at Tussing Rd. Expect del...</td>\n",
       "      <td>Brice Rd</td>\n",
       "      <td>Reynoldsburg</td>\n",
       "      <td>Franklin</td>\n",
       "      <td>OH</td>\n",
       "      <td>43068-3402</td>\n",
       "      <td>US</td>\n",
       "      <td>US/Eastern</td>\n",
       "      <td>KCMH</td>\n",
       "      <td>2016-02-08 05:51:00</td>\n",
       "      <td>37.9</td>\n",
       "      <td>NaN</td>\n",
       "      <td>100.0</td>\n",
       "      <td>29.65</td>\n",
       "      <td>10.0</td>\n",
       "      <td>Calm</td>\n",
       "      <td>NaN</td>\n",
       "      <td>0.00</td>\n",
       "      <td>Light Rain</td>\n",
       "      <td>False</td>\n",
       "      <td>False</td>\n",
       "      <td>False</td>\n",
       "      <td>False</td>\n",
       "      <td>False</td>\n",
       "      <td>False</td>\n",
       "      <td>False</td>\n",
       "      <td>False</td>\n",
       "      <td>False</td>\n",
       "      <td>False</td>\n",
       "      <td>False</td>\n",
       "      <td>False</td>\n",
       "      <td>False</td>\n",
       "      <td>Night</td>\n",
       "      <td>Night</td>\n",
       "      <td>Night</td>\n",
       "      <td>Day</td>\n",
       "    </tr>\n",
       "    <tr>\n",
       "      <th>2</th>\n",
       "      <td>A-3</td>\n",
       "      <td>Source2</td>\n",
       "      <td>2</td>\n",
       "      <td>2016-02-08 06:49:27</td>\n",
       "      <td>2016-02-08 07:19:27</td>\n",
       "      <td>39.063148</td>\n",
       "      <td>-84.032608</td>\n",
       "      <td>NaN</td>\n",
       "      <td>NaN</td>\n",
       "      <td>0.01</td>\n",
       "      <td>Accident on OH-32 State Route 32 Westbound at ...</td>\n",
       "      <td>State Route 32</td>\n",
       "      <td>Williamsburg</td>\n",
       "      <td>Clermont</td>\n",
       "      <td>OH</td>\n",
       "      <td>45176</td>\n",
       "      <td>US</td>\n",
       "      <td>US/Eastern</td>\n",
       "      <td>KI69</td>\n",
       "      <td>2016-02-08 06:56:00</td>\n",
       "      <td>36.0</td>\n",
       "      <td>33.3</td>\n",
       "      <td>100.0</td>\n",
       "      <td>29.67</td>\n",
       "      <td>10.0</td>\n",
       "      <td>SW</td>\n",
       "      <td>3.5</td>\n",
       "      <td>NaN</td>\n",
       "      <td>Overcast</td>\n",
       "      <td>False</td>\n",
       "      <td>False</td>\n",
       "      <td>False</td>\n",
       "      <td>False</td>\n",
       "      <td>False</td>\n",
       "      <td>False</td>\n",
       "      <td>False</td>\n",
       "      <td>False</td>\n",
       "      <td>False</td>\n",
       "      <td>False</td>\n",
       "      <td>False</td>\n",
       "      <td>True</td>\n",
       "      <td>False</td>\n",
       "      <td>Night</td>\n",
       "      <td>Night</td>\n",
       "      <td>Day</td>\n",
       "      <td>Day</td>\n",
       "    </tr>\n",
       "    <tr>\n",
       "      <th>3</th>\n",
       "      <td>A-4</td>\n",
       "      <td>Source2</td>\n",
       "      <td>3</td>\n",
       "      <td>2016-02-08 07:23:34</td>\n",
       "      <td>2016-02-08 07:53:34</td>\n",
       "      <td>39.747753</td>\n",
       "      <td>-84.205582</td>\n",
       "      <td>NaN</td>\n",
       "      <td>NaN</td>\n",
       "      <td>0.01</td>\n",
       "      <td>Accident on I-75 Southbound at Exits 52 52B US...</td>\n",
       "      <td>I-75 S</td>\n",
       "      <td>Dayton</td>\n",
       "      <td>Montgomery</td>\n",
       "      <td>OH</td>\n",
       "      <td>45417</td>\n",
       "      <td>US</td>\n",
       "      <td>US/Eastern</td>\n",
       "      <td>KDAY</td>\n",
       "      <td>2016-02-08 07:38:00</td>\n",
       "      <td>35.1</td>\n",
       "      <td>31.0</td>\n",
       "      <td>96.0</td>\n",
       "      <td>29.64</td>\n",
       "      <td>9.0</td>\n",
       "      <td>SW</td>\n",
       "      <td>4.6</td>\n",
       "      <td>NaN</td>\n",
       "      <td>Mostly Cloudy</td>\n",
       "      <td>False</td>\n",
       "      <td>False</td>\n",
       "      <td>False</td>\n",
       "      <td>False</td>\n",
       "      <td>False</td>\n",
       "      <td>False</td>\n",
       "      <td>False</td>\n",
       "      <td>False</td>\n",
       "      <td>False</td>\n",
       "      <td>False</td>\n",
       "      <td>False</td>\n",
       "      <td>False</td>\n",
       "      <td>False</td>\n",
       "      <td>Night</td>\n",
       "      <td>Day</td>\n",
       "      <td>Day</td>\n",
       "      <td>Day</td>\n",
       "    </tr>\n",
       "    <tr>\n",
       "      <th>4</th>\n",
       "      <td>A-5</td>\n",
       "      <td>Source2</td>\n",
       "      <td>2</td>\n",
       "      <td>2016-02-08 07:39:07</td>\n",
       "      <td>2016-02-08 08:09:07</td>\n",
       "      <td>39.627781</td>\n",
       "      <td>-84.188354</td>\n",
       "      <td>NaN</td>\n",
       "      <td>NaN</td>\n",
       "      <td>0.01</td>\n",
       "      <td>Accident on McEwen Rd at OH-725 Miamisburg Cen...</td>\n",
       "      <td>Miamisburg Centerville Rd</td>\n",
       "      <td>Dayton</td>\n",
       "      <td>Montgomery</td>\n",
       "      <td>OH</td>\n",
       "      <td>45459</td>\n",
       "      <td>US</td>\n",
       "      <td>US/Eastern</td>\n",
       "      <td>KMGY</td>\n",
       "      <td>2016-02-08 07:53:00</td>\n",
       "      <td>36.0</td>\n",
       "      <td>33.3</td>\n",
       "      <td>89.0</td>\n",
       "      <td>29.65</td>\n",
       "      <td>6.0</td>\n",
       "      <td>SW</td>\n",
       "      <td>3.5</td>\n",
       "      <td>NaN</td>\n",
       "      <td>Mostly Cloudy</td>\n",
       "      <td>False</td>\n",
       "      <td>False</td>\n",
       "      <td>False</td>\n",
       "      <td>False</td>\n",
       "      <td>False</td>\n",
       "      <td>False</td>\n",
       "      <td>False</td>\n",
       "      <td>False</td>\n",
       "      <td>False</td>\n",
       "      <td>False</td>\n",
       "      <td>False</td>\n",
       "      <td>True</td>\n",
       "      <td>False</td>\n",
       "      <td>Day</td>\n",
       "      <td>Day</td>\n",
       "      <td>Day</td>\n",
       "      <td>Day</td>\n",
       "    </tr>\n",
       "  </tbody>\n",
       "</table>\n",
       "</div>"
      ],
      "text/plain": [
       "    ID   Source  Severity           Start_Time             End_Time   \n",
       "0  A-1  Source2         3  2016-02-08 05:46:00  2016-02-08 11:00:00  \\\n",
       "1  A-2  Source2         2  2016-02-08 06:07:59  2016-02-08 06:37:59   \n",
       "2  A-3  Source2         2  2016-02-08 06:49:27  2016-02-08 07:19:27   \n",
       "3  A-4  Source2         3  2016-02-08 07:23:34  2016-02-08 07:53:34   \n",
       "4  A-5  Source2         2  2016-02-08 07:39:07  2016-02-08 08:09:07   \n",
       "\n",
       "   Start_Lat  Start_Lng  End_Lat  End_Lng  Distance(mi)   \n",
       "0  39.865147 -84.058723      NaN      NaN          0.01  \\\n",
       "1  39.928059 -82.831184      NaN      NaN          0.01   \n",
       "2  39.063148 -84.032608      NaN      NaN          0.01   \n",
       "3  39.747753 -84.205582      NaN      NaN          0.01   \n",
       "4  39.627781 -84.188354      NaN      NaN          0.01   \n",
       "\n",
       "                                         Description   \n",
       "0  Right lane blocked due to accident on I-70 Eas...  \\\n",
       "1  Accident on Brice Rd at Tussing Rd. Expect del...   \n",
       "2  Accident on OH-32 State Route 32 Westbound at ...   \n",
       "3  Accident on I-75 Southbound at Exits 52 52B US...   \n",
       "4  Accident on McEwen Rd at OH-725 Miamisburg Cen...   \n",
       "\n",
       "                      Street          City      County State     Zipcode   \n",
       "0                     I-70 E        Dayton  Montgomery    OH       45424  \\\n",
       "1                   Brice Rd  Reynoldsburg    Franklin    OH  43068-3402   \n",
       "2             State Route 32  Williamsburg    Clermont    OH       45176   \n",
       "3                     I-75 S        Dayton  Montgomery    OH       45417   \n",
       "4  Miamisburg Centerville Rd        Dayton  Montgomery    OH       45459   \n",
       "\n",
       "  Country    Timezone Airport_Code    Weather_Timestamp  Temperature(F)   \n",
       "0      US  US/Eastern         KFFO  2016-02-08 05:58:00            36.9  \\\n",
       "1      US  US/Eastern         KCMH  2016-02-08 05:51:00            37.9   \n",
       "2      US  US/Eastern         KI69  2016-02-08 06:56:00            36.0   \n",
       "3      US  US/Eastern         KDAY  2016-02-08 07:38:00            35.1   \n",
       "4      US  US/Eastern         KMGY  2016-02-08 07:53:00            36.0   \n",
       "\n",
       "   Wind_Chill(F)  Humidity(%)  Pressure(in)  Visibility(mi) Wind_Direction   \n",
       "0            NaN         91.0         29.68            10.0           Calm  \\\n",
       "1            NaN        100.0         29.65            10.0           Calm   \n",
       "2           33.3        100.0         29.67            10.0             SW   \n",
       "3           31.0         96.0         29.64             9.0             SW   \n",
       "4           33.3         89.0         29.65             6.0             SW   \n",
       "\n",
       "   Wind_Speed(mph)  Precipitation(in) Weather_Condition  Amenity   Bump   \n",
       "0              NaN               0.02        Light Rain    False  False  \\\n",
       "1              NaN               0.00        Light Rain    False  False   \n",
       "2              3.5                NaN          Overcast    False  False   \n",
       "3              4.6                NaN     Mostly Cloudy    False  False   \n",
       "4              3.5                NaN     Mostly Cloudy    False  False   \n",
       "\n",
       "   Crossing  Give_Way  Junction  No_Exit  Railway  Roundabout  Station   Stop   \n",
       "0     False     False     False    False    False       False    False  False  \\\n",
       "1     False     False     False    False    False       False    False  False   \n",
       "2     False     False     False    False    False       False    False  False   \n",
       "3     False     False     False    False    False       False    False  False   \n",
       "4     False     False     False    False    False       False    False  False   \n",
       "\n",
       "   Traffic_Calming  Traffic_Signal  Turning_Loop Sunrise_Sunset   \n",
       "0            False           False         False          Night  \\\n",
       "1            False           False         False          Night   \n",
       "2            False            True         False          Night   \n",
       "3            False           False         False          Night   \n",
       "4            False            True         False            Day   \n",
       "\n",
       "  Civil_Twilight Nautical_Twilight Astronomical_Twilight  \n",
       "0          Night             Night                 Night  \n",
       "1          Night             Night                   Day  \n",
       "2          Night               Day                   Day  \n",
       "3            Day               Day                   Day  \n",
       "4            Day               Day                   Day  "
      ]
     },
     "execution_count": 6,
     "metadata": {},
     "output_type": "execute_result"
    }
   ],
   "source": [
    "from IPython.display import display\n",
    "pd.options.display.max_columns = None\n",
    "df.head(5)"
   ]
  },
  {
   "cell_type": "markdown",
   "id": "514cb308-f1af-4e40-8bc9-f4de16ec7c58",
   "metadata": {},
   "source": [
    "It looks like quite a lot of the columns are in boolean data type. Let's check the data type of each column."
   ]
  },
  {
   "cell_type": "code",
   "execution_count": 8,
   "id": "814c74ca-5303-4c90-a422-c14e87fda82a",
   "metadata": {},
   "outputs": [
    {
     "data": {
      "text/plain": [
       "ID                        object\n",
       "Source                    object\n",
       "Severity                   int64\n",
       "Start_Time                object\n",
       "End_Time                  object\n",
       "Start_Lat                float64\n",
       "Start_Lng                float64\n",
       "End_Lat                  float64\n",
       "End_Lng                  float64\n",
       "Distance(mi)             float64\n",
       "Description               object\n",
       "Street                    object\n",
       "City                      object\n",
       "County                    object\n",
       "State                     object\n",
       "Zipcode                   object\n",
       "Country                   object\n",
       "Timezone                  object\n",
       "Airport_Code              object\n",
       "Weather_Timestamp         object\n",
       "Temperature(F)           float64\n",
       "Wind_Chill(F)            float64\n",
       "Humidity(%)              float64\n",
       "Pressure(in)             float64\n",
       "Visibility(mi)           float64\n",
       "Wind_Direction            object\n",
       "Wind_Speed(mph)          float64\n",
       "Precipitation(in)        float64\n",
       "Weather_Condition         object\n",
       "Amenity                     bool\n",
       "Bump                        bool\n",
       "Crossing                    bool\n",
       "Give_Way                    bool\n",
       "Junction                    bool\n",
       "No_Exit                     bool\n",
       "Railway                     bool\n",
       "Roundabout                  bool\n",
       "Station                     bool\n",
       "Stop                        bool\n",
       "Traffic_Calming             bool\n",
       "Traffic_Signal              bool\n",
       "Turning_Loop                bool\n",
       "Sunrise_Sunset            object\n",
       "Civil_Twilight            object\n",
       "Nautical_Twilight         object\n",
       "Astronomical_Twilight     object\n",
       "dtype: object"
      ]
     },
     "execution_count": 8,
     "metadata": {},
     "output_type": "execute_result"
    }
   ],
   "source": [
    "df.dtypes"
   ]
  },
  {
   "cell_type": "markdown",
   "id": "c6773362-a99a-4cdc-8267-72e76cdbed5a",
   "metadata": {},
   "source": [
    "We can see that some of the fields that should be in timestamp but are in object types. Let's convert the fields to timestamps.\n",
    "One thing I do notice is when I try to convert the time fields to datetime, the formats are not uniform for all observations, when some of the rows are in the format like `2017-07-23 04:21:01.000000000` where most of the rows are in format like `2017-07-23 04:21:01`. Let's take care of the discrepancy here as well."
   ]
  },
  {
   "cell_type": "markdown",
   "id": "0c70e998-fea1-4fd1-b2f8-7556812094e7",
   "metadata": {},
   "source": [
    "Remove the fractional seconds in the end for some of the rows and convert the fields related to timetamp to datetime."
   ]
  },
  {
   "cell_type": "code",
   "execution_count": 11,
   "id": "994d9545-2006-44f0-bba1-04612803d658",
   "metadata": {},
   "outputs": [],
   "source": [
    "def preprocess_time_column(df, column_name):\n",
    "    df[column_name] = df[column_name].str.split('.').str[0]\n",
    "    df[column_name] = pd.to_datetime(df[column_name])\n",
    "    return df\n",
    "\n",
    "time_columns = ['Start_Time','End_Time', 'Weather_Timestamp']\n",
    "for col in time_columns:\n",
    "    df = preprocess_time_column(df, col)"
   ]
  },
  {
   "cell_type": "markdown",
   "id": "b43189c0-1452-4fb3-9b95-60610345cdae",
   "metadata": {},
   "source": [
    "Let's check some of the timestamp fields after converting."
   ]
  },
  {
   "cell_type": "code",
   "execution_count": 13,
   "id": "65054a39-c42e-4194-9d85-78e25c6cfde7",
   "metadata": {},
   "outputs": [
    {
     "data": {
      "text/html": [
       "<div>\n",
       "<style scoped>\n",
       "    .dataframe tbody tr th:only-of-type {\n",
       "        vertical-align: middle;\n",
       "    }\n",
       "\n",
       "    .dataframe tbody tr th {\n",
       "        vertical-align: top;\n",
       "    }\n",
       "\n",
       "    .dataframe thead th {\n",
       "        text-align: right;\n",
       "    }\n",
       "</style>\n",
       "<table border=\"1\" class=\"dataframe\">\n",
       "  <thead>\n",
       "    <tr style=\"text-align: right;\">\n",
       "      <th></th>\n",
       "      <th>Start_Time</th>\n",
       "      <th>End_Time</th>\n",
       "      <th>Weather_Timestamp</th>\n",
       "    </tr>\n",
       "  </thead>\n",
       "  <tbody>\n",
       "    <tr>\n",
       "      <th>3922836</th>\n",
       "      <td>2022-12-22 10:50:00</td>\n",
       "      <td>2022-12-22 11:11:30</td>\n",
       "      <td>2022-12-22 10:53:00</td>\n",
       "    </tr>\n",
       "    <tr>\n",
       "      <th>918496</th>\n",
       "      <td>2021-08-23 06:20:29</td>\n",
       "      <td>2021-08-23 07:36:40</td>\n",
       "      <td>2021-08-23 05:53:00</td>\n",
       "    </tr>\n",
       "    <tr>\n",
       "      <th>6466938</th>\n",
       "      <td>2021-02-03 22:42:10</td>\n",
       "      <td>2021-02-04 01:24:08</td>\n",
       "      <td>2021-02-03 22:35:00</td>\n",
       "    </tr>\n",
       "    <tr>\n",
       "      <th>3001631</th>\n",
       "      <td>2018-02-14 08:57:33</td>\n",
       "      <td>2018-02-14 09:27:20</td>\n",
       "      <td>2018-02-14 08:52:00</td>\n",
       "    </tr>\n",
       "    <tr>\n",
       "      <th>6278069</th>\n",
       "      <td>2021-10-30 17:16:00</td>\n",
       "      <td>2021-10-30 19:19:04</td>\n",
       "      <td>2021-10-30 16:53:00</td>\n",
       "    </tr>\n",
       "  </tbody>\n",
       "</table>\n",
       "</div>"
      ],
      "text/plain": [
       "                 Start_Time            End_Time   Weather_Timestamp\n",
       "3922836 2022-12-22 10:50:00 2022-12-22 11:11:30 2022-12-22 10:53:00\n",
       "918496  2021-08-23 06:20:29 2021-08-23 07:36:40 2021-08-23 05:53:00\n",
       "6466938 2021-02-03 22:42:10 2021-02-04 01:24:08 2021-02-03 22:35:00\n",
       "3001631 2018-02-14 08:57:33 2018-02-14 09:27:20 2018-02-14 08:52:00\n",
       "6278069 2021-10-30 17:16:00 2021-10-30 19:19:04 2021-10-30 16:53:00"
      ]
     },
     "execution_count": 13,
     "metadata": {},
     "output_type": "execute_result"
    }
   ],
   "source": [
    "df[['Start_Time','End_Time', 'Weather_Timestamp']].sample(5)"
   ]
  },
  {
   "cell_type": "markdown",
   "id": "2d3caae1-c1f6-48ee-bb2d-d80afb13e957",
   "metadata": {},
   "source": [
    "Since we are analyzing the effect of day/night on car accidents, we want to control for the locaiton approximaty as well because a different location from a different city, state could have other factors that contribute to the car accidents, such as under construction, gang area, etc.\n",
    "<br>\n",
    "<br>\n",
    "Let's take a look at the location distribution of the data."
   ]
  },
  {
   "cell_type": "code",
   "execution_count": 15,
   "id": "5a942a65-c81c-44a2-8e32-084c924aae3c",
   "metadata": {},
   "outputs": [
    {
     "name": "stdout",
     "output_type": "stream",
     "text": [
      "          City            County State  frequency  percentage\n",
      "0        Miami        Miami-Dade    FL     186760    2.416543\n",
      "1      Houston            Harris    TX     168826    2.184490\n",
      "2  Los Angeles       Los Angeles    CA     156491    2.024884\n",
      "3    Charlotte       Mecklenburg    NC     138325    1.789829\n",
      "4       Dallas            Dallas    TX     128115    1.657718\n",
      "5      Orlando            Orange    FL     109687    1.419273\n",
      "6       Austin            Travis    TX      93402    1.208556\n",
      "7      Raleigh              Wake    NC      86043    1.113336\n",
      "8    Nashville          Davidson    TN      72666    0.940247\n",
      "9  Baton Rouge  East Baton Rouge    LA      71587    0.926286\n"
     ]
    }
   ],
   "source": [
    "def rank_location(df, top=10):\n",
    "    total = len(df)\n",
    "    grouped_df = df.groupby(['City','County','State']).size().reset_index(name='frequency')\n",
    "    grouped_df['percentage'] = (grouped_df['frequency'] / total) * 100\n",
    "    grouped_df.sort_values(by='frequency', ascending=False, inplace=True)\n",
    "    top = grouped_df.head(top)\n",
    "    top = top.reset_index(drop=True)\n",
    "\n",
    "    print(top)\n",
    "\n",
    "rank_location(df)"
   ]
  },
  {
   "cell_type": "markdown",
   "id": "81af8571-e22b-4a55-9fc3-8715bfbaa9a8",
   "metadata": {},
   "source": [
    "As we can see, Miami has the most significant volume of data in the dataframe. Therefore, let's focus on the Miami car accident data for the purpose of this project, as well as the reduction in data run time."
   ]
  },
  {
   "cell_type": "code",
   "execution_count": 17,
   "id": "9e54d023-0663-453b-97fc-6d273555b98e",
   "metadata": {},
   "outputs": [
    {
     "data": {
      "text/plain": [
       "(186760, 46)"
      ]
     },
     "execution_count": 17,
     "metadata": {},
     "output_type": "execute_result"
    }
   ],
   "source": [
    "df_miami = df.loc[(df.City=='Miami')&(df.County=='Miami-Dade')&(df.State=='FL')]\n",
    "df_miami.shape"
   ]
  },
  {
   "cell_type": "markdown",
   "id": "dda44c99-3c4e-462e-9c2b-c23e911c001a",
   "metadata": {},
   "source": [
    "For the purpose of the project, there are a few columns that we don't need for EDA analysis:\n",
    "* End Latitude and End Longitude, since most of them are Null and we already have the beginning latitude and longitude. And honestly we don't expect the location to change by much after the accident has happened unless there's no gravity.\n",
    "* ID, since each row is unique according to the info on the Kaggle page.\n",
    "* Source, as source of the incident recording is not important and the Source 1 and Source 2 are balenced in numbers with other sources only representing 1% according to the Kaggle detail page.\n",
    "* Description, as it's a useless field that's in the format of 'Accidents on \\<road name\\>. Expect delays'.\n",
    "* Street, City, County, State, Zipcode, Country as we already have the coordinates data and we know the accidents all happened in the US, and we are focusing on the data related to Miami,FL.\n",
    "* Airport_Code which denotes an airport-based weather station which is the closest one to location of the accident.\n",
    "* Timezone as the time are in local time and the local time are more closely related to the darkness. And since we are focusing on the Miami, FL accidents, the timezone is the same across all records as it's local time.\n",
    "  \n",
    "Let's get rid of these fields, as well as converting the boolean fields to binary int 0 and 1."
   ]
  },
  {
   "cell_type": "code",
   "execution_count": 19,
   "id": "f50f9a2a-d442-47ac-bb56-b90131a541b1",
   "metadata": {},
   "outputs": [
    {
     "data": {
      "text/html": [
       "<div>\n",
       "<style scoped>\n",
       "    .dataframe tbody tr th:only-of-type {\n",
       "        vertical-align: middle;\n",
       "    }\n",
       "\n",
       "    .dataframe tbody tr th {\n",
       "        vertical-align: top;\n",
       "    }\n",
       "\n",
       "    .dataframe thead th {\n",
       "        text-align: right;\n",
       "    }\n",
       "</style>\n",
       "<table border=\"1\" class=\"dataframe\">\n",
       "  <thead>\n",
       "    <tr style=\"text-align: right;\">\n",
       "      <th></th>\n",
       "      <th>Severity</th>\n",
       "      <th>Start_Time</th>\n",
       "      <th>End_Time</th>\n",
       "      <th>Start_Lat</th>\n",
       "      <th>Start_Lng</th>\n",
       "      <th>Distance(mi)</th>\n",
       "      <th>Weather_Timestamp</th>\n",
       "      <th>Temperature(F)</th>\n",
       "      <th>Wind_Chill(F)</th>\n",
       "      <th>Humidity(%)</th>\n",
       "      <th>Pressure(in)</th>\n",
       "      <th>Visibility(mi)</th>\n",
       "      <th>Wind_Direction</th>\n",
       "      <th>Wind_Speed(mph)</th>\n",
       "      <th>Precipitation(in)</th>\n",
       "      <th>Weather_Condition</th>\n",
       "      <th>Amenity</th>\n",
       "      <th>Bump</th>\n",
       "      <th>Crossing</th>\n",
       "      <th>Give_Way</th>\n",
       "      <th>Junction</th>\n",
       "      <th>No_Exit</th>\n",
       "      <th>Railway</th>\n",
       "      <th>Roundabout</th>\n",
       "      <th>Station</th>\n",
       "      <th>Stop</th>\n",
       "      <th>Traffic_Calming</th>\n",
       "      <th>Traffic_Signal</th>\n",
       "      <th>Turning_Loop</th>\n",
       "      <th>Sunrise_Sunset</th>\n",
       "      <th>Civil_Twilight</th>\n",
       "      <th>Nautical_Twilight</th>\n",
       "      <th>Astronomical_Twilight</th>\n",
       "    </tr>\n",
       "  </thead>\n",
       "  <tbody>\n",
       "    <tr>\n",
       "      <th>116057</th>\n",
       "      <td>2</td>\n",
       "      <td>2016-11-30 16:40:31</td>\n",
       "      <td>2016-11-30 17:10:19</td>\n",
       "      <td>25.627699</td>\n",
       "      <td>-80.374451</td>\n",
       "      <td>0.01</td>\n",
       "      <td>2016-11-30 16:53:00</td>\n",
       "      <td>80.1</td>\n",
       "      <td>NaN</td>\n",
       "      <td>71.0</td>\n",
       "      <td>29.96</td>\n",
       "      <td>10.0</td>\n",
       "      <td>SE</td>\n",
       "      <td>9.2</td>\n",
       "      <td>NaN</td>\n",
       "      <td>Mostly Cloudy</td>\n",
       "      <td>0</td>\n",
       "      <td>0</td>\n",
       "      <td>1</td>\n",
       "      <td>0</td>\n",
       "      <td>0</td>\n",
       "      <td>0</td>\n",
       "      <td>0</td>\n",
       "      <td>0</td>\n",
       "      <td>0</td>\n",
       "      <td>1</td>\n",
       "      <td>0</td>\n",
       "      <td>1</td>\n",
       "      <td>0</td>\n",
       "      <td>Day</td>\n",
       "      <td>Day</td>\n",
       "      <td>Day</td>\n",
       "      <td>Day</td>\n",
       "    </tr>\n",
       "    <tr>\n",
       "      <th>116060</th>\n",
       "      <td>2</td>\n",
       "      <td>2016-11-30 15:16:19</td>\n",
       "      <td>2016-11-30 17:01:03</td>\n",
       "      <td>25.963093</td>\n",
       "      <td>-80.185677</td>\n",
       "      <td>0.01</td>\n",
       "      <td>2016-11-30 14:53:00</td>\n",
       "      <td>82.0</td>\n",
       "      <td>NaN</td>\n",
       "      <td>62.0</td>\n",
       "      <td>29.95</td>\n",
       "      <td>10.0</td>\n",
       "      <td>SE</td>\n",
       "      <td>11.5</td>\n",
       "      <td>NaN</td>\n",
       "      <td>Scattered Clouds</td>\n",
       "      <td>0</td>\n",
       "      <td>0</td>\n",
       "      <td>0</td>\n",
       "      <td>0</td>\n",
       "      <td>0</td>\n",
       "      <td>0</td>\n",
       "      <td>0</td>\n",
       "      <td>0</td>\n",
       "      <td>0</td>\n",
       "      <td>0</td>\n",
       "      <td>0</td>\n",
       "      <td>1</td>\n",
       "      <td>0</td>\n",
       "      <td>Day</td>\n",
       "      <td>Day</td>\n",
       "      <td>Day</td>\n",
       "      <td>Day</td>\n",
       "    </tr>\n",
       "    <tr>\n",
       "      <th>116061</th>\n",
       "      <td>2</td>\n",
       "      <td>2016-11-30 16:55:31</td>\n",
       "      <td>2016-11-30 17:25:11</td>\n",
       "      <td>25.841373</td>\n",
       "      <td>-80.322037</td>\n",
       "      <td>0.01</td>\n",
       "      <td>2016-11-30 16:53:00</td>\n",
       "      <td>78.1</td>\n",
       "      <td>NaN</td>\n",
       "      <td>76.0</td>\n",
       "      <td>29.97</td>\n",
       "      <td>10.0</td>\n",
       "      <td>SE</td>\n",
       "      <td>13.8</td>\n",
       "      <td>NaN</td>\n",
       "      <td>Mostly Cloudy</td>\n",
       "      <td>0</td>\n",
       "      <td>0</td>\n",
       "      <td>0</td>\n",
       "      <td>0</td>\n",
       "      <td>0</td>\n",
       "      <td>0</td>\n",
       "      <td>0</td>\n",
       "      <td>0</td>\n",
       "      <td>0</td>\n",
       "      <td>0</td>\n",
       "      <td>0</td>\n",
       "      <td>0</td>\n",
       "      <td>0</td>\n",
       "      <td>Day</td>\n",
       "      <td>Day</td>\n",
       "      <td>Day</td>\n",
       "      <td>Day</td>\n",
       "    </tr>\n",
       "    <tr>\n",
       "      <th>116062</th>\n",
       "      <td>3</td>\n",
       "      <td>2016-11-30 16:57:23</td>\n",
       "      <td>2016-11-30 17:27:10</td>\n",
       "      <td>25.812199</td>\n",
       "      <td>-80.205856</td>\n",
       "      <td>0.01</td>\n",
       "      <td>2016-11-30 16:53:00</td>\n",
       "      <td>78.1</td>\n",
       "      <td>NaN</td>\n",
       "      <td>76.0</td>\n",
       "      <td>29.97</td>\n",
       "      <td>10.0</td>\n",
       "      <td>SE</td>\n",
       "      <td>13.8</td>\n",
       "      <td>NaN</td>\n",
       "      <td>Mostly Cloudy</td>\n",
       "      <td>0</td>\n",
       "      <td>0</td>\n",
       "      <td>0</td>\n",
       "      <td>0</td>\n",
       "      <td>0</td>\n",
       "      <td>0</td>\n",
       "      <td>0</td>\n",
       "      <td>0</td>\n",
       "      <td>0</td>\n",
       "      <td>0</td>\n",
       "      <td>0</td>\n",
       "      <td>0</td>\n",
       "      <td>0</td>\n",
       "      <td>Day</td>\n",
       "      <td>Day</td>\n",
       "      <td>Day</td>\n",
       "      <td>Day</td>\n",
       "    </tr>\n",
       "    <tr>\n",
       "      <th>116064</th>\n",
       "      <td>2</td>\n",
       "      <td>2016-11-30 17:15:52</td>\n",
       "      <td>2016-11-30 17:45:36</td>\n",
       "      <td>25.781235</td>\n",
       "      <td>-80.337181</td>\n",
       "      <td>0.01</td>\n",
       "      <td>2016-11-30 16:53:00</td>\n",
       "      <td>78.1</td>\n",
       "      <td>NaN</td>\n",
       "      <td>76.0</td>\n",
       "      <td>29.97</td>\n",
       "      <td>10.0</td>\n",
       "      <td>SE</td>\n",
       "      <td>13.8</td>\n",
       "      <td>NaN</td>\n",
       "      <td>Mostly Cloudy</td>\n",
       "      <td>0</td>\n",
       "      <td>0</td>\n",
       "      <td>0</td>\n",
       "      <td>0</td>\n",
       "      <td>0</td>\n",
       "      <td>0</td>\n",
       "      <td>0</td>\n",
       "      <td>0</td>\n",
       "      <td>0</td>\n",
       "      <td>0</td>\n",
       "      <td>0</td>\n",
       "      <td>0</td>\n",
       "      <td>0</td>\n",
       "      <td>Day</td>\n",
       "      <td>Day</td>\n",
       "      <td>Day</td>\n",
       "      <td>Day</td>\n",
       "    </tr>\n",
       "  </tbody>\n",
       "</table>\n",
       "</div>"
      ],
      "text/plain": [
       "        Severity          Start_Time            End_Time  Start_Lat   \n",
       "116057         2 2016-11-30 16:40:31 2016-11-30 17:10:19  25.627699  \\\n",
       "116060         2 2016-11-30 15:16:19 2016-11-30 17:01:03  25.963093   \n",
       "116061         2 2016-11-30 16:55:31 2016-11-30 17:25:11  25.841373   \n",
       "116062         3 2016-11-30 16:57:23 2016-11-30 17:27:10  25.812199   \n",
       "116064         2 2016-11-30 17:15:52 2016-11-30 17:45:36  25.781235   \n",
       "\n",
       "        Start_Lng  Distance(mi)   Weather_Timestamp  Temperature(F)   \n",
       "116057 -80.374451          0.01 2016-11-30 16:53:00            80.1  \\\n",
       "116060 -80.185677          0.01 2016-11-30 14:53:00            82.0   \n",
       "116061 -80.322037          0.01 2016-11-30 16:53:00            78.1   \n",
       "116062 -80.205856          0.01 2016-11-30 16:53:00            78.1   \n",
       "116064 -80.337181          0.01 2016-11-30 16:53:00            78.1   \n",
       "\n",
       "        Wind_Chill(F)  Humidity(%)  Pressure(in)  Visibility(mi)   \n",
       "116057            NaN         71.0         29.96            10.0  \\\n",
       "116060            NaN         62.0         29.95            10.0   \n",
       "116061            NaN         76.0         29.97            10.0   \n",
       "116062            NaN         76.0         29.97            10.0   \n",
       "116064            NaN         76.0         29.97            10.0   \n",
       "\n",
       "       Wind_Direction  Wind_Speed(mph)  Precipitation(in) Weather_Condition   \n",
       "116057             SE              9.2                NaN     Mostly Cloudy  \\\n",
       "116060             SE             11.5                NaN  Scattered Clouds   \n",
       "116061             SE             13.8                NaN     Mostly Cloudy   \n",
       "116062             SE             13.8                NaN     Mostly Cloudy   \n",
       "116064             SE             13.8                NaN     Mostly Cloudy   \n",
       "\n",
       "        Amenity  Bump  Crossing  Give_Way  Junction  No_Exit  Railway   \n",
       "116057        0     0         1         0         0        0        0  \\\n",
       "116060        0     0         0         0         0        0        0   \n",
       "116061        0     0         0         0         0        0        0   \n",
       "116062        0     0         0         0         0        0        0   \n",
       "116064        0     0         0         0         0        0        0   \n",
       "\n",
       "        Roundabout  Station  Stop  Traffic_Calming  Traffic_Signal   \n",
       "116057           0        0     1                0               1  \\\n",
       "116060           0        0     0                0               1   \n",
       "116061           0        0     0                0               0   \n",
       "116062           0        0     0                0               0   \n",
       "116064           0        0     0                0               0   \n",
       "\n",
       "        Turning_Loop Sunrise_Sunset Civil_Twilight Nautical_Twilight   \n",
       "116057             0            Day            Day               Day  \\\n",
       "116060             0            Day            Day               Day   \n",
       "116061             0            Day            Day               Day   \n",
       "116062             0            Day            Day               Day   \n",
       "116064             0            Day            Day               Day   \n",
       "\n",
       "       Astronomical_Twilight  \n",
       "116057                   Day  \n",
       "116060                   Day  \n",
       "116061                   Day  \n",
       "116062                   Day  \n",
       "116064                   Day  "
      ]
     },
     "execution_count": 19,
     "metadata": {},
     "output_type": "execute_result"
    }
   ],
   "source": [
    "df_miami = df_miami.drop(columns = ['End_Lat','End_Lng','ID','Source','Description','Street','City','County','State','Zipcode','Country','Timezone',\n",
    "                                    'Airport_Code'])\n",
    "bool_cols = df_miami.select_dtypes('bool').columns\n",
    "df_miami[bool_cols] = df_miami[bool_cols].astype(int)\n",
    "\n",
    "df_miami.head(5)"
   ]
  },
  {
   "cell_type": "markdown",
   "id": "f6c208ae-732f-4d49-a812-c305bc8ddca3",
   "metadata": {},
   "source": [
    "There are four daylight stages fields in the dataframe: Sunrise/Sunset, Civil twilight, Nautical twilight, Astronomical twilight. According to **[WKBW.com](https://www.wkbw.com/weather/from-dawn-to-dusk-do-you-know-the-stages-of-daylight#:~:text=Civil%20Twilight%20is%20when%20the,18%20degrees%20below%20the%20horizon.)**, Civil twilight starts when the sun is 6 degrees below the horizon and lasts through sunrise for dawn - or sunset to 6 degrees below the horizon for dusk. Nautical twilight is when the sun is 6-12 degrees below the horizon, whereas the astronomial twilight is when the sun is 12-18 degrees below the horizon. Since during civil twilight and and nautical twlight we can still see things clearly, I choose to use the Astronomical twilight to distinguish physical dark and clear sights for the purpose of the project. <img src=\"https://www.weather.gov/images/lmk/twilight_types.png\" style=\"height:300px\" />"
   ]
  },
  {
   "cell_type": "markdown",
   "id": "58f1af33-81d5-4c51-ba73-8b3873abcfee",
   "metadata": {},
   "source": [
    "Drop the Sunrise_Sunset, Civil_Twilight and Nautical_Twilight fields."
   ]
  },
  {
   "cell_type": "code",
   "execution_count": 22,
   "id": "d4f30399-20e3-4024-b4f1-b5ff61127770",
   "metadata": {},
   "outputs": [],
   "source": [
    "df_miami = df_miami.drop(columns = ['Sunrise_Sunset','Civil_Twilight','Nautical_Twilight'])"
   ]
  },
  {
   "cell_type": "markdown",
   "id": "8230329d-91a6-41be-b840-c60051233ab7",
   "metadata": {},
   "source": [
    "Drop the rows where the Astronomical_Twilight fields are null. It's okay to do so because there are only 23,246 such cases accoridng to the Kaggle data detail and it accoounts for less than 0.5% of the total records, and shouldn't impact the Miami, FL by much as well if we check."
   ]
  },
  {
   "cell_type": "code",
   "execution_count": 24,
   "id": "fdeedcf5-6283-4ec5-a39a-2137a36d8074",
   "metadata": {},
   "outputs": [
    {
     "name": "stdout",
     "output_type": "stream",
     "text": [
      "Percentage of the original Miami,FL records after removing records where Astronomical_Twilight field is null: 100.0\n"
     ]
    }
   ],
   "source": [
    "df_miami = df_miami.dropna(subset=['Astronomical_Twilight'])\n",
    "print('Percentage of the original Miami,FL records after removing records where Astronomical_Twilight field is null:',(df_miami.shape[0] / 186760) * 100)"
   ]
  },
  {
   "cell_type": "markdown",
   "id": "90ec0f75-2822-4844-b9a4-436568db76cf",
   "metadata": {},
   "source": [
    "As we can see, there's no data loss at all."
   ]
  },
  {
   "cell_type": "markdown",
   "id": "561daef4-5c5a-46b4-bd9e-7dfbcd23aa6e",
   "metadata": {},
   "source": [
    "Let's check the distribution of the dat and night accidents in Miami,FL."
   ]
  },
  {
   "cell_type": "code",
   "execution_count": 27,
   "id": "9c257405-66d6-42f6-a441-8bf30a85270c",
   "metadata": {},
   "outputs": [
    {
     "data": {
      "text/plain": [
       "Astronomical_Twilight\n",
       "Day      160780\n",
       "Night     25980\n",
       "Name: count, dtype: int64"
      ]
     },
     "execution_count": 27,
     "metadata": {},
     "output_type": "execute_result"
    }
   ],
   "source": [
    "df_miami.Astronomical_Twilight.value_counts()"
   ]
  },
  {
   "cell_type": "markdown",
   "id": "28374736-7561-4cd1-819f-99656f165e98",
   "metadata": {},
   "source": [
    "Although the distribution is not balanced, it does not indicate it's more likely to have car accident during the day than the night, as there could be other factors such as fewer cars on the street at night as people tend to be at home or indoor more often than during the day when a lot of people drive to work. We can use weight to balance the data at later analysis."
   ]
  },
  {
   "cell_type": "markdown",
   "id": "a29f5b6d-ef3c-4d62-9009-48c06c96fdfa",
   "metadata": {},
   "source": [
    "## Step 2: Variable Analysis"
   ]
  },
  {
   "cell_type": "markdown",
   "id": "053ca8fe-27dd-43ed-9d2c-c75732dd9a89",
   "metadata": {},
   "source": [
    "To help answer the question of the project: `Is it more likely to have car accident during the night than during the day?`, we need to focus on varibales that are related to the question.\n",
    "\n",
    "Among all of the remaining 30 variables, they are more or less helpful for our research topic, but let's choose the following five varibales for simplicity:\n",
    "* Severity: It's the severity of the accident, with a number between 1 and 4, where 1 indicates the least impact on traffic (i.e., short delay as a result of the accident) and 4 indicates a significant impact on traffic (i.e., long delay).\n",
    "* Temperature(F): Shows the temperature (in Fahrenheit).\n",
    "* Humidity(%): Shows the humidity (in percentage).\n",
    "* Visibility(mi): Shows visibility (in miles).\n",
    "* Distance(mi): Shows the length of the road extent affected by the accident in miles.\n",
    "* Astronomical_Twilight: Shows the period of day (i.e. day or night) based on astronomical twilight.\n",
    "\n",
    "Some of the reasons to ignore some of the remaining fields are:\n",
    "* Not including the coordinates as they are not related to the research topic and we have narrowed the data down to Miami, FL to control for location.\n",
    "* Althouth wind speed and wind direction could be helpful, but since there's no information on whether the car was following the wind or against it, it's hard to clearly understand the effect.\n",
    "* Not including the fields of boolean types because they are highly imbalanced with almost all fields having `False` value."
   ]
  },
  {
   "cell_type": "markdown",
   "id": "6c89e0cb-28de-47f6-a850-61e5993747e9",
   "metadata": {},
   "source": [
    "Let's check the null value counts of each of the field before we do EDA."
   ]
  },
  {
   "cell_type": "code",
   "execution_count": 32,
   "id": "59e02593-3159-4ade-a440-285f31c53cb2",
   "metadata": {},
   "outputs": [
    {
     "name": "stdout",
     "output_type": "stream",
     "text": [
      "Severity                 0.000000\n",
      "Temperature(F)           1.180660\n",
      "Humidity(%)              1.279182\n",
      "Visibility(mi)           0.954166\n",
      "Distance(mi)             0.000000\n",
      "Astronomical_Twilight    0.000000\n",
      "dtype: float64\n"
     ]
    }
   ],
   "source": [
    "fields = ['Severity','Temperature(F)','Humidity(%)','Visibility(mi)','Distance(mi)','Astronomical_Twilight']\n",
    "\n",
    "print(df_miami[fields].isnull().mean() * 100)"
   ]
  },
  {
   "cell_type": "markdown",
   "id": "d07796b9-43af-47e4-96b3-aa8190afa906",
   "metadata": {},
   "source": [
    "Since the null value acounts do not account for material percentage point for each of the field, we are good to move on with our analysis."
   ]
  },
  {
   "cell_type": "markdown",
   "id": "f2f3427d-b90f-4dbc-b973-6a75d256c7e1",
   "metadata": {},
   "source": [
    "### Histogram"
   ]
  },
  {
   "cell_type": "markdown",
   "id": "9c229d3d-f392-4485-a95b-6e5b51541719",
   "metadata": {},
   "source": [
    "First, let's use the thinkstats modules for the purpose of analysis and visualizations."
   ]
  },
  {
   "cell_type": "code",
   "execution_count": 36,
   "id": "baed51a5-0f0e-475d-9a5d-7f7ca1a44eb9",
   "metadata": {},
   "outputs": [],
   "source": [
    "from os.path import basename, exists\n",
    "\n",
    "\n",
    "def download(url):\n",
    "    filename = basename(url)\n",
    "    if not exists(filename):\n",
    "        from urllib.request import urlretrieve\n",
    "\n",
    "        local, _ = urlretrieve(url, filename)\n",
    "        print(\"Downloaded \" + local)\n",
    "\n",
    "\n",
    "download(\"https://github.com/AllenDowney/ThinkStats2/raw/master/code/thinkstats2.py\")\n",
    "download(\"https://github.com/AllenDowney/ThinkStats2/raw/master/code/thinkplot.py\")"
   ]
  },
  {
   "cell_type": "code",
   "execution_count": 37,
   "id": "9db4f40b-24bd-4606-b975-91a4a1ad5b34",
   "metadata": {},
   "outputs": [],
   "source": [
    "import thinkstats2\n",
    "import thinkplot"
   ]
  },
  {
   "cell_type": "markdown",
   "id": "bac08ca6-5113-4a7b-b1a2-9280658ae5d3",
   "metadata": {},
   "source": [
    "**Drawing the histogram of the Severity.**"
   ]
  },
  {
   "cell_type": "code",
   "execution_count": 39,
   "id": "9cd03083-d2c8-41b0-9027-a739af7ffdd2",
   "metadata": {},
   "outputs": [
    {
     "data": {
      "image/png": "[encoded data removed]",
      "text/plain": [
       "<Figure size 640x480 with 1 Axes>"
      ]
     },
     "metadata": {},
     "output_type": "display_data"
    }
   ],
   "source": [
    "hist_severity = thinkstats2.Hist(df_miami.Severity, label='Miami,Fl Car Accidents')\n",
    "thinkplot.Hist(hist_severity)\n",
    "thinkplot.Config(xlabel='Severity', ylabel='Frequency')"
   ]
  },
  {
   "cell_type": "markdown",
   "id": "74fbb7b4-98d8-4bc5-8a5b-11bdf1a4246d",
   "metadata": {},
   "source": [
    "As we can see, most of the accidents are graded around severity level 2. There are much fewer accidents that are graded as level 1 or 4. It makes sense to have such outliers as severe car accidents are rare in real life, and most car accident result in the delay of the traffic. We should keep them."
   ]
  },
  {
   "cell_type": "markdown",
   "id": "8349dd10-f54e-466e-b592-f70df99a6a2c",
   "metadata": {},
   "source": [
    "**Drawing the histogram of the Temperature(F).**"
   ]
  },
  {
   "cell_type": "code",
   "execution_count": 42,
   "id": "1ecd247a-2afd-46d1-8a8d-fb6417087fab",
   "metadata": {},
   "outputs": [
    {
     "data": {
      "image/png": "[encoded data removed]",
      "text/plain": [
       "<Figure size 640x480 with 1 Axes>"
      ]
     },
     "metadata": {},
     "output_type": "display_data"
    }
   ],
   "source": [
    "hist_temperature = thinkstats2.Hist(df_miami['Temperature(F)'], label='Miami,Fl Car Accidents')\n",
    "thinkplot.Hist(hist_temperature, width=5)\n",
    "thinkplot.Config(xlabel='Temperature(F)', ylabel='Frequency')"
   ]
  },
  {
   "cell_type": "markdown",
   "id": "2678b180-7e7b-441e-a38c-67977ff81de1",
   "metadata": {},
   "source": [
    "The obvious outliers are the records when the Fahrenheit temperature are negative, with a few as extreme as around -50. As they are very rare in the data, we can remove them regardless of the cause of them being outliers."
   ]
  },
  {
   "cell_type": "code",
   "execution_count": 44,
   "id": "c4bc6a76-0a87-4c76-a089-273d5d2f3cf7",
   "metadata": {},
   "outputs": [
    {
     "name": "stdout",
     "output_type": "stream",
     "text": [
      "Current number of records: 184552\n"
     ]
    },
    {
     "data": {
      "image/png": "[encoded data removed]",
      "text/plain": [
       "<Figure size 640x480 with 1 Axes>"
      ]
     },
     "metadata": {},
     "output_type": "display_data"
    }
   ],
   "source": [
    "df_miami = df_miami[df_miami['Temperature(F)'] >= 0]\n",
    "print('Current number of records:', df_miami.shape[0])\n",
    "hist_temperature = thinkstats2.Hist(df_miami['Temperature(F)'], label='Miami,Fl Car Accidents')\n",
    "thinkplot.Hist(hist_temperature, width=5)\n",
    "thinkplot.Config(xlabel='Temperature(F)', ylabel='Frequency')"
   ]
  },
  {
   "cell_type": "markdown",
   "id": "15bf28ad-8d1e-460c-9cbd-ede1a062e13b",
   "metadata": {},
   "source": [
    "Now the temperature distribution looks more normal but is still skewed to the left, which makes sense as Miami can get chill but relatively rare compared to being about 80 F."
   ]
  },
  {
   "cell_type": "markdown",
   "id": "1d2f0f49-02c1-4be8-ac70-950d9fd2efad",
   "metadata": {},
   "source": [
    "**Drawing the histogram of Humidity(%).**"
   ]
  },
  {
   "cell_type": "code",
   "execution_count": 47,
   "id": "37a9dcfb-d5ab-4e86-ac37-da5aab13797c",
   "metadata": {},
   "outputs": [
    {
     "data": {
      "image/png": "[encoded data removed]",
      "text/plain": [
       "<Figure size 640x480 with 1 Axes>"
      ]
     },
     "metadata": {},
     "output_type": "display_data"
    }
   ],
   "source": [
    "hist_humidity = thinkstats2.Hist(df_miami['Humidity(%)'], label='Miami,Fl Car Accidents')\n",
    "thinkplot.Hist(hist_humidity)\n",
    "thinkplot.Config(xlabel='Humidity(%)', ylabel='Frequency')"
   ]
  },
  {
   "cell_type": "markdown",
   "id": "ffe226f5-d226-4791-90d6-7ecd1bc07954",
   "metadata": {},
   "source": [
    "The plot looks normal if we were to take out the spikes that we see about 60% to 100%, with the data normal around 60%. However, because of the spikes, the data is not normal. There are records with humidity less than 40%, which does not make sense according to [World Population Review](https://worldpopulationreview.com/state-rankings/least-humid-states), that shows even the driest place in the US, Nevada, has an average humidity of 38.3%, let alone Florida is at the [humid subtropical climate zone](https://climatecenter.fsu.edu/images/fcc/climateofflorida.pdf). "
   ]
  },
  {
   "cell_type": "markdown",
   "id": "86ca2349-a465-4344-b999-dd5789296fca",
   "metadata": {},
   "source": [
    "Let's check the number of records with humidity less than 30%."
   ]
  },
  {
   "cell_type": "code",
   "execution_count": 50,
   "id": "a03a3eb9-48fb-438a-a3fb-fe9a979cba74",
   "metadata": {},
   "outputs": [
    {
     "name": "stdout",
     "output_type": "stream",
     "text": [
      "Number of records: 573 Percenatege: 0.3104815986822142\n"
     ]
    }
   ],
   "source": [
    "print('Number of records:', len(df_miami[df_miami['Humidity(%)'] < 30]), 'Percenatege:', len(df_miami[df_miami['Humidity(%)'] < 30])/ len(df_miami) \n",
    "      * 100)"
   ]
  },
  {
   "cell_type": "markdown",
   "id": "ea0faccc-8f25-4f27-a908-a27d1c4c553e",
   "metadata": {},
   "source": [
    "Since there about about 0.31 percent of all current Miami records have humidity less than 30%, let's remove them for data sanity."
   ]
  },
  {
   "cell_type": "code",
   "execution_count": 52,
   "id": "28a12771-12a8-4a40-a698-fd383db4ce40",
   "metadata": {},
   "outputs": [
    {
     "name": "stdout",
     "output_type": "stream",
     "text": [
      "Current number of records: 183798\n"
     ]
    },
    {
     "data": {
      "image/png": "[encoded data removed]",
      "text/plain": [
       "<Figure size 640x480 with 1 Axes>"
      ]
     },
     "metadata": {},
     "output_type": "display_data"
    }
   ],
   "source": [
    "df_miami = df_miami[df_miami['Humidity(%)'] >= 30]\n",
    "print('Current number of records:', df_miami.shape[0])\n",
    "hist_humidity = thinkstats2.Hist(df_miami['Humidity(%)'], label='Miami,Fl Car Accidents')\n",
    "thinkplot.Hist(hist_humidity)\n",
    "thinkplot.Config(xlabel='Humidity(%)', ylabel='Frequency')"
   ]
  },
  {
   "cell_type": "markdown",
   "id": "504aaf34-89d3-473d-9a41-08920822200b",
   "metadata": {},
   "source": [
    "**Drawing the histogram of Visibility(mi).**"
   ]
  },
  {
   "cell_type": "code",
   "execution_count": 54,
   "id": "c4b13f25-f74d-4eae-bbdc-9c4723259e0d",
   "metadata": {},
   "outputs": [
    {
     "data": {
      "image/png": "[encoded data removed]",
      "text/plain": [
       "<Figure size 640x480 with 1 Axes>"
      ]
     },
     "metadata": {},
     "output_type": "display_data"
    }
   ],
   "source": [
    "hist_visibility = thinkstats2.Hist(df_miami['Visibility(mi)'], label='Miami,Fl Car Accidents')\n",
    "thinkplot.Hist(hist_visibility, width = 0.1)\n",
    "thinkplot.Config(xlabel='Visibility(mi)', ylabel='Frequency')"
   ]
  },
  {
   "cell_type": "markdown",
   "id": "e3925629-90ec-4d0a-ad34-fd277320caf2",
   "metadata": {},
   "source": [
    "We can see the visibility has a majority value of 10 miles. Since we don't have insights into the cause of the outliers, and the lower valued outliers could well mean abnormal situations such as tropical storm, we will keep the values untouched."
   ]
  },
  {
   "cell_type": "markdown",
   "id": "bc6e0b1d-855c-405c-8d60-b9124b34cf61",
   "metadata": {},
   "source": [
    "**Drawing the histogram of Distance(mi).**"
   ]
  },
  {
   "cell_type": "code",
   "execution_count": 57,
   "id": "41420eb9-9dda-4375-989c-f30e4ea0d5ca",
   "metadata": {},
   "outputs": [
    {
     "data": {
      "image/png": "[encoded data removed]",
      "text/plain": [
       "<Figure size 640x480 with 1 Axes>"
      ]
     },
     "metadata": {},
     "output_type": "display_data"
    }
   ],
   "source": [
    "hist_distance = thinkstats2.Hist(df_miami['Distance(mi)'], label='Miami,Fl Car Accidents')\n",
    "thinkplot.Hist(hist_distance, width=0.1)\n",
    "thinkplot.Config(xlabel='Distance(mi)', ylabel='Frequency')"
   ]
  },
  {
   "cell_type": "markdown",
   "id": "1db38d84-aca1-457a-97d0-dab45abac1bd",
   "metadata": {},
   "source": [
    "There are a more than 25000 records have distance of 0 miles, meaning not affecting the road at all. Since it's really hard to visualize the outliers of this variable, let's use max and min to get the exact largest and smalled distance values."
   ]
  },
  {
   "cell_type": "code",
   "execution_count": 59,
   "id": "774e9184-9eae-499e-9e24-0ad3de801588",
   "metadata": {},
   "outputs": [
    {
     "data": {
      "text/plain": [
       "(23.466, 0.0)"
      ]
     },
     "execution_count": 59,
     "metadata": {},
     "output_type": "execute_result"
    }
   ],
   "source": [
    "max(df_miami['Distance(mi)']), min(df_miami['Distance(mi)'])"
   ]
  },
  {
   "cell_type": "markdown",
   "id": "dd9bb008-9d97-4128-9a55-12ef11080e02",
   "metadata": {},
   "source": [
    "Since we don't have insights into the cause of the outliers, and 23 miles of road affect could be completely blocking the road, or part of the road, as some roads are way longer than 23 miles, such as [U.S.Route 20](https://en.wikipedia.org/wiki/U.S._Route_20), which extends to 3,365 miles, I will leave the outliers untouched."
   ]
  },
  {
   "cell_type": "markdown",
   "id": "5d48f6de-73d8-4f5a-8e24-6e6c9641905b",
   "metadata": {},
   "source": [
    "### Descriptive Characteristics"
   ]
  },
  {
   "cell_type": "markdown",
   "id": "7fad8e36-2e1e-45e3-9b44-f494a239a0e2",
   "metadata": {},
   "source": [
    "Let's split the data into night and day for the purpose of the project."
   ]
  },
  {
   "cell_type": "code",
   "execution_count": 63,
   "id": "237c2dc0-bb14-4f7c-983a-9670859c49a3",
   "metadata": {},
   "outputs": [
    {
     "data": {
      "text/plain": [
       "((25411, 30), (158387, 30))"
      ]
     },
     "execution_count": 63,
     "metadata": {},
     "output_type": "execute_result"
    }
   ],
   "source": [
    "night = df_miami[df_miami.Astronomical_Twilight == 'Night']\n",
    "day = df_miami[df_miami.Astronomical_Twilight == 'Day']\n",
    "\n",
    "night.shape, day.shape"
   ]
  },
  {
   "cell_type": "markdown",
   "id": "8ed56f77-2dee-4c63-a6ad-69eca530b8a9",
   "metadata": {},
   "source": [
    "Let's get the descriptive characteristics of the variables: Mean, Mode, Spread, and Tails."
   ]
  },
  {
   "cell_type": "code",
   "execution_count": 65,
   "id": "c9fc5470-2bc8-4a36-a035-1787d4a72bdb",
   "metadata": {},
   "outputs": [],
   "source": [
    "def desccr(df, variable, percentile=0.025):\n",
    "    mean = df[variable].mean()\n",
    "    mode = df[variable].mode()[0]\n",
    "    spread = df[variable].var()\n",
    "\n",
    "    lower_bound = df[variable].quantile(percentile)\n",
    "    upper_bound = df[variable].quantile(1 - percentile)\n",
    "\n",
    "    lower_tail = df[df[variable] <= lower_bound][variable]\n",
    "    upper_tail = df[df[variable] >= upper_bound][variable]\n",
    "\n",
    "    lower_tail_range = (lower_tail.min(), lower_tail.max())\n",
    "    upper_tail_range = (upper_tail.min(), upper_tail.max())\n",
    "    \n",
    "    print(f'Variable: {variable}\\nMean: {mean}\\nMode: {mode}\\nSpread: {spread}\\nLower Tail Range: {lower_tail_range}\\nUpper Tail Range: {upper_tail_range}')"
   ]
  },
  {
   "cell_type": "markdown",
   "id": "bf3874f2-2099-409f-8d20-82271ad031ce",
   "metadata": {},
   "source": [
    "The descriptive characteristics of the night accidents in Miami, FL."
   ]
  },
  {
   "cell_type": "code",
   "execution_count": 67,
   "id": "544801a4-f1e4-4566-9778-76f31526c73e",
   "metadata": {},
   "outputs": [
    {
     "name": "stdout",
     "output_type": "stream",
     "text": [
      "Variable: Severity\n",
      "Mean: 2.1297076069418757\n",
      "Mode: 2\n",
      "Spread: 0.16397023721035814\n",
      "Lower Tail Range: (1, 2)\n",
      "Upper Tail Range: (3, 4)\n",
      "***************\n",
      "Variable: Temperature(F)\n",
      "Mean: 72.59369170831529\n",
      "Mode: 75.0\n",
      "Spread: 55.46061781900353\n",
      "Lower Tail Range: (41.0, 54.0)\n",
      "Upper Tail Range: (83.0, 88.0)\n",
      "***************\n",
      "Variable: Humidity(%)\n",
      "Mean: 80.31513911298256\n",
      "Mode: 87.0\n",
      "Spread: 122.69824344680107\n",
      "Lower Tail Range: (31.0, 56.0)\n",
      "Upper Tail Range: (100.0, 100.0)\n",
      "***************\n",
      "Variable: Visibility(mi)\n",
      "Mean: 9.703179426310584\n",
      "Mode: 10.0\n",
      "Spread: 1.6684550961979439\n",
      "Lower Tail Range: (0.06, 5.0)\n",
      "Upper Tail Range: (10.0, 10.0)\n",
      "***************\n",
      "Variable: Distance(mi)\n",
      "Mean: 0.40081834640734937\n",
      "Mode: 0.0\n",
      "Spread: 0.8916221194603018\n",
      "Lower Tail Range: (0.0, 0.0)\n",
      "Upper Tail Range: (2.959, 13.1)\n",
      "***************\n"
     ]
    }
   ],
   "source": [
    "variables = ['Severity','Temperature(F)','Humidity(%)','Visibility(mi)','Distance(mi)']\n",
    "for i in variables:\n",
    "    desccr(night, i)\n",
    "    print('*'*15)"
   ]
  },
  {
   "cell_type": "markdown",
   "id": "01170c00-0f87-4511-88dd-ddea12c67fda",
   "metadata": {},
   "source": [
    "The descriptive characteristics of the day accidents in Miami, FL."
   ]
  },
  {
   "cell_type": "code",
   "execution_count": 69,
   "id": "cf3ea70c-c597-4760-baec-f26f3db5dd09",
   "metadata": {},
   "outputs": [
    {
     "name": "stdout",
     "output_type": "stream",
     "text": [
      "Variable: Severity\n",
      "Mean: 2.0959800993768427\n",
      "Mode: 2\n",
      "Spread: 0.10759101517393688\n",
      "Lower Tail Range: (1, 2)\n",
      "Upper Tail Range: (3, 4)\n",
      "***************\n",
      "Variable: Temperature(F)\n",
      "Mean: 79.45278779192736\n",
      "Mode: 79.0\n",
      "Spread: 50.58256952351726\n",
      "Lower Tail Range: (4.0, 62.0)\n",
      "Upper Tail Range: (91.0, 109.0)\n",
      "***************\n",
      "Variable: Humidity(%)\n",
      "Mean: 68.23428690485962\n",
      "Mode: 67.0\n",
      "Spread: 193.127132963367\n",
      "Lower Tail Range: (30.0, 43.0)\n",
      "Upper Tail Range: (96.0, 100.0)\n",
      "***************\n",
      "Variable: Visibility(mi)\n",
      "Mean: 9.72932329066994\n",
      "Mode: 10.0\n",
      "Spread: 1.6786903745454937\n",
      "Lower Tail Range: (0.0, 5.0)\n",
      "Upper Tail Range: (10.0, 10.0)\n",
      "***************\n",
      "Variable: Distance(mi)\n",
      "Mean: 0.3986807124855947\n",
      "Mode: 0.0\n",
      "Spread: 0.8575694350611041\n",
      "Lower Tail Range: (0.0, 0.0)\n",
      "Upper Tail Range: (2.929, 23.466)\n",
      "***************\n"
     ]
    }
   ],
   "source": [
    "for i in variables:\n",
    "    desccr(day, i)\n",
    "    print('*'*15)"
   ]
  },
  {
   "cell_type": "markdown",
   "id": "b13c564e-f7c4-48f0-91e5-6d6af2c49c09",
   "metadata": {},
   "source": [
    "Cohen effect size of the Severity between night and day"
   ]
  },
  {
   "cell_type": "code",
   "execution_count": 71,
   "id": "70b74d84-76fc-44c6-bb55-87f0c742ec1b",
   "metadata": {},
   "outputs": [
    {
     "data": {
      "text/plain": [
       "0.09929061560614377"
      ]
     },
     "execution_count": 71,
     "metadata": {},
     "output_type": "execute_result"
    }
   ],
   "source": [
    "thinkstats2.CohenEffectSize(night.Severity, day.Severity)"
   ]
  },
  {
   "cell_type": "markdown",
   "id": "e9b1ec2b-7740-4dcb-bbf2-646eb82e92f9",
   "metadata": {},
   "source": [
    "Cohen effect size of the Distance(mi) between night and day"
   ]
  },
  {
   "cell_type": "code",
   "execution_count": 73,
   "id": "a32350c9-b0f4-45e4-9541-5a582446fe37",
   "metadata": {},
   "outputs": [
    {
     "data": {
      "text/plain": [
       "0.0023020239266414123"
      ]
     },
     "execution_count": 73,
     "metadata": {},
     "output_type": "execute_result"
    }
   ],
   "source": [
    "thinkstats2.CohenEffectSize(night['Distance(mi)'], day['Distance(mi)'])"
   ]
  },
  {
   "cell_type": "markdown",
   "id": "fe806c62-63f9-4be2-b17c-e4e33494c6cb",
   "metadata": {},
   "source": [
    "The effect size is much clear on Severity than the Distance(mi)."
   ]
  },
  {
   "cell_type": "markdown",
   "id": "eb641ec5-35dd-4132-8081-ad992938c5a7",
   "metadata": {},
   "source": [
    "Based on the characteristics above, the mean severity and the affect distance are larger in the night than the day, even though the day has much larger max value of the affect distance. Based on this initial information, it does look like our hypothesis is correct. Let's move on to more advanced analysis."
   ]
  },
  {
   "cell_type": "markdown",
   "id": "79bc3650-a2ed-4496-bc69-5307d45ca116",
   "metadata": {},
   "source": [
    "### PMF Analysis"
   ]
  },
  {
   "cell_type": "markdown",
   "id": "d33c5980-3f4d-4ab0-b796-9cbea0418cf3",
   "metadata": {},
   "source": [
    "Let's draw the PMF graphs for the day and night."
   ]
  },
  {
   "cell_type": "markdown",
   "id": "7044bb34-492d-41de-821a-fa87d9394d1c",
   "metadata": {},
   "source": [
    "First, let's focus on the Severity."
   ]
  },
  {
   "cell_type": "code",
   "execution_count": 79,
   "id": "69ba87a6-28a6-4efe-aafd-62899d3c7b0c",
   "metadata": {},
   "outputs": [
    {
     "data": {
      "image/png": "[encoded data removed]",
      "text/plain": [
       "<Figure size 1200x600 with 1 Axes>"
      ]
     },
     "metadata": {},
     "output_type": "display_data"
    }
   ],
   "source": [
    "day_pmf_severity = thinkstats2.Pmf(day.Severity, label='day')\n",
    "night_pmf_severity = thinkstats2.Pmf(night.Severity, label='night')\n",
    "\n",
    "thinkplot.PrePlot(2, cols=2)\n",
    "thinkplot.Hist(day_pmf_severity, align=\"right\")\n",
    "thinkplot.Hist(night_pmf_severity, align=\"left\")\n",
    "thinkplot.Config(xlabel=\"Severity\", ylabel=\"PMF\")"
   ]
  },
  {
   "cell_type": "markdown",
   "id": "7fa26886-a275-4082-842e-922539b34207",
   "metadata": {},
   "source": [
    "According to the graph, night accidents seem to be less likely than day accidents to have severity level of 2, and more likely to have severity level of 3 and 4."
   ]
  },
  {
   "cell_type": "markdown",
   "id": "ac355378-6d24-4dfd-9c15-9ba3b06cc7ac",
   "metadata": {},
   "source": [
    "Let's take a look at Distance(mi)."
   ]
  },
  {
   "cell_type": "code",
   "execution_count": 82,
   "id": "13d02edc-91ae-4d17-a7fe-ccdcb0e12aae",
   "metadata": {},
   "outputs": [
    {
     "data": {
      "image/png": "[encoded data removed]",
      "text/plain": [
       "<Figure size 1200x600 with 1 Axes>"
      ]
     },
     "metadata": {},
     "output_type": "display_data"
    }
   ],
   "source": [
    "day_pmf_distance = thinkstats2.Pmf(day['Distance(mi)'], label='day')\n",
    "night_pmf_distance = thinkstats2.Pmf(night['Distance(mi)'], label='night')\n",
    "\n",
    "width = 0.3\n",
    "axis = [0,8,0,0.13]\n",
    "thinkplot.PrePlot(2, cols=2)\n",
    "thinkplot.Hist(day_pmf_distance, align=\"right\", width=width)\n",
    "thinkplot.Hist(night_pmf_distance, align=\"left\", width=width)\n",
    "thinkplot.Config(xlabel=\"Distance(mi)\", ylabel=\"PMF\", axis=axis)"
   ]
  },
  {
   "cell_type": "markdown",
   "id": "31edb744-6063-421a-aa88-28d0036beaab",
   "metadata": {},
   "source": [
    "Although it's hard to visualize the PMF chart of Distance(mi), we can still see that night accidents seem to be more likely to have larger distance impact."
   ]
  },
  {
   "cell_type": "markdown",
   "id": "79139fc2-82cf-44c7-ab3c-6565cfddf2b4",
   "metadata": {},
   "source": [
    "### CDF Analysis"
   ]
  },
  {
   "cell_type": "markdown",
   "id": "f0f3bacf-240e-46a9-a80f-708de43378ad",
   "metadata": {},
   "source": [
    "Let's draw the CDF graphs for the day and night."
   ]
  },
  {
   "cell_type": "markdown",
   "id": "9f810052-df31-45b5-82b1-e22a4117fb9f",
   "metadata": {},
   "source": [
    "First, let's focus on the Severity."
   ]
  },
  {
   "cell_type": "code",
   "execution_count": 87,
   "id": "d96476c4-dce7-40b9-a312-2ddfd2dabfe5",
   "metadata": {},
   "outputs": [
    {
     "data": {
      "image/png": "[encoded data removed]",
      "text/plain": [
       "<Figure size 1200x600 with 1 Axes>"
      ]
     },
     "metadata": {},
     "output_type": "display_data"
    }
   ],
   "source": [
    "day_cdf_severity = thinkstats2.Cdf(day.Severity, label='day')\n",
    "night_cdf_severity = thinkstats2.Cdf(night.Severity, label='night')\n",
    "\n",
    "thinkplot.PrePlot(2, cols=2)\n",
    "thinkplot.Cdfs([day_cdf_severity, night_cdf_severity])\n",
    "thinkplot.Config(xlabel=\"Severity\", ylabel=\"CDF\")"
   ]
  },
  {
   "cell_type": "markdown",
   "id": "e04be32b-fb86-4483-a9fc-5004db697a2d",
   "metadata": {},
   "source": [
    "This graph provides visual representation that the most common value for both day and night is level 2 of severity and it does look like the change of severity happens earlier for night for both severity 3 and 4, indicating accidents that happened during night tend to be more severe. "
   ]
  },
  {
   "cell_type": "markdown",
   "id": "80d374ce-f122-444d-8677-78f303cc7f1e",
   "metadata": {},
   "source": [
    "Let's take a look at Distance(mi)."
   ]
  },
  {
   "cell_type": "code",
   "execution_count": 90,
   "id": "e9c557dc-6843-4585-8554-935765b60ffc",
   "metadata": {},
   "outputs": [
    {
     "data": {
      "image/png": "[encoded data removed]",
      "text/plain": [
       "<Figure size 1200x600 with 1 Axes>"
      ]
     },
     "metadata": {},
     "output_type": "display_data"
    }
   ],
   "source": [
    "day_cdf_distance = thinkstats2.Cdf(day['Distance(mi)'], label='day')\n",
    "night_cdf_distance = thinkstats2.Cdf(night['Distance(mi)'], label='night')\n",
    "\n",
    "thinkplot.PrePlot(2, cols=2)\n",
    "thinkplot.Cdfs([day_cdf_distance, night_cdf_distance])\n",
    "thinkplot.Config(xlabel=\"Distance(mi)\", ylabel=\"CDF\")"
   ]
  },
  {
   "cell_type": "markdown",
   "id": "3619c812-60c3-494b-baba-bd14021e912b",
   "metadata": {},
   "source": [
    "The plot shows the night accidents have slightly longer impact distance especially as the CDF gets larger."
   ]
  },
  {
   "cell_type": "markdown",
   "id": "73543b54-f1d7-4f52-a3b1-3fbb0c619dd0",
   "metadata": {},
   "source": [
    "### Analytical Distribution Analysis"
   ]
  },
  {
   "cell_type": "markdown",
   "id": "6f1802ca-0535-467a-95e6-fe449ef00590",
   "metadata": {},
   "source": [
    "For this project, we have accident start time and end time. Since it's clear neither the Distance(mi) nor Severity variables are normally distributed, with the severity variable being categorical so there's no normality in it whatsoever, we will focus on the exponential distribution and take a look at the whole dataset, meaing including both the day and night. For exponential distributions, if the events are equally likely to occur at any time, the distribution of interarrival times tends to look like an exponential distribution."
   ]
  },
  {
   "cell_type": "markdown",
   "id": "cc177f47-8e6f-4327-9ac5-f7a611c7e531",
   "metadata": {},
   "source": [
    "Let's order the start time in ascending order, and calculate the minutes since midnight, and the calculate the difference between consecutive accident start time for the whole dataset. Although the start time spans over multiple days, in this case we only extract the time part and calculate the time part difference."
   ]
  },
  {
   "cell_type": "code",
   "execution_count": 95,
   "id": "a3551950-8d96-46c5-a77d-7a09882002e3",
   "metadata": {},
   "outputs": [],
   "source": [
    "def time_process(df):\n",
    "    df.loc[:,'time'] = df.loc[:,'Start_Time'].dt.time\n",
    "    df = df.sort_values(by = 'time').reset_index(drop=True)\n",
    "    df['elapsed_since_midnight'] = df.loc[:,'Start_Time'].dt.hour*60 + df.loc[:,'Start_Time'].dt.minute + df.loc[:,'Start_Time'].dt.second/60\n",
    "    df['time_diff'] = df.loc[:,'elapsed_since_midnight'].diff()\n",
    "\n",
    "    return df"
   ]
  },
  {
   "cell_type": "code",
   "execution_count": 96,
   "id": "f8653661-b0ad-448e-b2cb-7ec4400db117",
   "metadata": {},
   "outputs": [],
   "source": [
    "df_miami_time = time_process(df_miami)"
   ]
  },
  {
   "cell_type": "markdown",
   "id": "a2ae9abb-9034-497d-8f51-e03cf90aea02",
   "metadata": {},
   "source": [
    "Check some examples."
   ]
  },
  {
   "cell_type": "code",
   "execution_count": 98,
   "id": "6471199b-b559-4b27-bbe8-dc1c740808ef",
   "metadata": {},
   "outputs": [
    {
     "data": {
      "text/html": [
       "<div>\n",
       "<style scoped>\n",
       "    .dataframe tbody tr th:only-of-type {\n",
       "        vertical-align: middle;\n",
       "    }\n",
       "\n",
       "    .dataframe tbody tr th {\n",
       "        vertical-align: top;\n",
       "    }\n",
       "\n",
       "    .dataframe thead th {\n",
       "        text-align: right;\n",
       "    }\n",
       "</style>\n",
       "<table border=\"1\" class=\"dataframe\">\n",
       "  <thead>\n",
       "    <tr style=\"text-align: right;\">\n",
       "      <th></th>\n",
       "      <th>Start_Time</th>\n",
       "      <th>time</th>\n",
       "      <th>elapsed_since_midnight</th>\n",
       "      <th>time_diff</th>\n",
       "    </tr>\n",
       "  </thead>\n",
       "  <tbody>\n",
       "    <tr>\n",
       "      <th>0</th>\n",
       "      <td>2021-01-27</td>\n",
       "      <td>00:00:00</td>\n",
       "      <td>0.0</td>\n",
       "      <td>NaN</td>\n",
       "    </tr>\n",
       "    <tr>\n",
       "      <th>1</th>\n",
       "      <td>2020-11-24</td>\n",
       "      <td>00:00:00</td>\n",
       "      <td>0.0</td>\n",
       "      <td>0.0</td>\n",
       "    </tr>\n",
       "    <tr>\n",
       "      <th>2</th>\n",
       "      <td>2020-10-01</td>\n",
       "      <td>00:00:00</td>\n",
       "      <td>0.0</td>\n",
       "      <td>0.0</td>\n",
       "    </tr>\n",
       "    <tr>\n",
       "      <th>3</th>\n",
       "      <td>2020-10-16</td>\n",
       "      <td>00:00:00</td>\n",
       "      <td>0.0</td>\n",
       "      <td>0.0</td>\n",
       "    </tr>\n",
       "    <tr>\n",
       "      <th>4</th>\n",
       "      <td>2020-11-21</td>\n",
       "      <td>00:00:00</td>\n",
       "      <td>0.0</td>\n",
       "      <td>0.0</td>\n",
       "    </tr>\n",
       "  </tbody>\n",
       "</table>\n",
       "</div>"
      ],
      "text/plain": [
       "  Start_Time      time  elapsed_since_midnight  time_diff\n",
       "0 2021-01-27  00:00:00                     0.0        NaN\n",
       "1 2020-11-24  00:00:00                     0.0        0.0\n",
       "2 2020-10-01  00:00:00                     0.0        0.0\n",
       "3 2020-10-16  00:00:00                     0.0        0.0\n",
       "4 2020-11-21  00:00:00                     0.0        0.0"
      ]
     },
     "execution_count": 98,
     "metadata": {},
     "output_type": "execute_result"
    }
   ],
   "source": [
    "df_miami_time[['Start_Time','time','elapsed_since_midnight','time_diff']].head(5)"
   ]
  },
  {
   "cell_type": "code",
   "execution_count": 99,
   "id": "e9bedaba-613b-45c9-9998-d93e23aea537",
   "metadata": {},
   "outputs": [
    {
     "data": {
      "text/html": [
       "<div>\n",
       "<style scoped>\n",
       "    .dataframe tbody tr th:only-of-type {\n",
       "        vertical-align: middle;\n",
       "    }\n",
       "\n",
       "    .dataframe tbody tr th {\n",
       "        vertical-align: top;\n",
       "    }\n",
       "\n",
       "    .dataframe thead th {\n",
       "        text-align: right;\n",
       "    }\n",
       "</style>\n",
       "<table border=\"1\" class=\"dataframe\">\n",
       "  <thead>\n",
       "    <tr style=\"text-align: right;\">\n",
       "      <th></th>\n",
       "      <th>Start_Time</th>\n",
       "      <th>time</th>\n",
       "      <th>elapsed_since_midnight</th>\n",
       "      <th>time_diff</th>\n",
       "    </tr>\n",
       "  </thead>\n",
       "  <tbody>\n",
       "    <tr>\n",
       "      <th>100790</th>\n",
       "      <td>2020-12-31 14:36:30</td>\n",
       "      <td>14:36:30</td>\n",
       "      <td>876.500000</td>\n",
       "      <td>0.000000</td>\n",
       "    </tr>\n",
       "    <tr>\n",
       "      <th>121900</th>\n",
       "      <td>2022-03-09 15:52:44</td>\n",
       "      <td>15:52:44</td>\n",
       "      <td>952.733333</td>\n",
       "      <td>0.000000</td>\n",
       "    </tr>\n",
       "    <tr>\n",
       "      <th>96110</th>\n",
       "      <td>2021-09-16 14:19:30</td>\n",
       "      <td>14:19:30</td>\n",
       "      <td>859.500000</td>\n",
       "      <td>0.000000</td>\n",
       "    </tr>\n",
       "    <tr>\n",
       "      <th>2431</th>\n",
       "      <td>2021-01-20 01:23:32</td>\n",
       "      <td>01:23:32</td>\n",
       "      <td>83.533333</td>\n",
       "      <td>0.200000</td>\n",
       "    </tr>\n",
       "    <tr>\n",
       "      <th>10803</th>\n",
       "      <td>2020-12-21 05:14:25</td>\n",
       "      <td>05:14:25</td>\n",
       "      <td>314.416667</td>\n",
       "      <td>0.033333</td>\n",
       "    </tr>\n",
       "  </tbody>\n",
       "</table>\n",
       "</div>"
      ],
      "text/plain": [
       "                Start_Time      time  elapsed_since_midnight  time_diff\n",
       "100790 2020-12-31 14:36:30  14:36:30              876.500000   0.000000\n",
       "121900 2022-03-09 15:52:44  15:52:44              952.733333   0.000000\n",
       "96110  2021-09-16 14:19:30  14:19:30              859.500000   0.000000\n",
       "2431   2021-01-20 01:23:32  01:23:32               83.533333   0.200000\n",
       "10803  2020-12-21 05:14:25  05:14:25              314.416667   0.033333"
      ]
     },
     "execution_count": 99,
     "metadata": {},
     "output_type": "execute_result"
    }
   ],
   "source": [
    "df_miami_time[['Start_Time','time','elapsed_since_midnight','time_diff']].sample(5)"
   ]
  },
  {
   "cell_type": "markdown",
   "id": "6e6dab7c-acab-412c-9336-ededb1c935c6",
   "metadata": {},
   "source": [
    "Let's plot the time diff CDF."
   ]
  },
  {
   "cell_type": "code",
   "execution_count": 101,
   "id": "02edc0ef-96b8-4646-b719-b0b9dcc06fa8",
   "metadata": {},
   "outputs": [
    {
     "data": {
      "image/png": "[encoded data removed]",
      "text/plain": [
       "<Figure size 640x480 with 1 Axes>"
      ]
     },
     "metadata": {},
     "output_type": "display_data"
    }
   ],
   "source": [
    "cdf_time = thinkstats2.Cdf(df_miami_time.time_diff, label=\"Miami,FL Car Accidents\")\n",
    "thinkplot.Cdf(cdf_time)\n",
    "thinkplot.Config(xlabel=\"Time between car accidents(minutes)\", ylabel=\"cdf\")"
   ]
  },
  {
   "cell_type": "markdown",
   "id": "5b64724d-64ef-4209-a72f-8a754f6e0332",
   "metadata": {},
   "source": [
    "This graph looks like an exponential distribution with relatively large $\\lambda$. Let's get rid of the duplicated time records and try again."
   ]
  },
  {
   "cell_type": "code",
   "execution_count": 103,
   "id": "51670825-6f8d-49d7-b260-5bc94f8c61c2",
   "metadata": {},
   "outputs": [],
   "source": [
    "df_miami_time_dedup = df_miami_time.drop_duplicates(subset='time')"
   ]
  },
  {
   "cell_type": "markdown",
   "id": "35bc8e19-2a68-490c-8590-249d9941e59f",
   "metadata": {},
   "source": [
    "Check the deduplicated dataframe."
   ]
  },
  {
   "cell_type": "code",
   "execution_count": 105,
   "id": "f5cc391f-b426-4ac1-b9aa-151da0524ce7",
   "metadata": {},
   "outputs": [
    {
     "data": {
      "text/html": [
       "<div>\n",
       "<style scoped>\n",
       "    .dataframe tbody tr th:only-of-type {\n",
       "        vertical-align: middle;\n",
       "    }\n",
       "\n",
       "    .dataframe tbody tr th {\n",
       "        vertical-align: top;\n",
       "    }\n",
       "\n",
       "    .dataframe thead th {\n",
       "        text-align: right;\n",
       "    }\n",
       "</style>\n",
       "<table border=\"1\" class=\"dataframe\">\n",
       "  <thead>\n",
       "    <tr style=\"text-align: right;\">\n",
       "      <th></th>\n",
       "      <th>Start_Time</th>\n",
       "      <th>time</th>\n",
       "      <th>elapsed_since_midnight</th>\n",
       "      <th>time_diff</th>\n",
       "    </tr>\n",
       "  </thead>\n",
       "  <tbody>\n",
       "    <tr>\n",
       "      <th>0</th>\n",
       "      <td>2021-01-27 00:00:00</td>\n",
       "      <td>00:00:00</td>\n",
       "      <td>0.000000</td>\n",
       "      <td>NaN</td>\n",
       "    </tr>\n",
       "    <tr>\n",
       "      <th>13</th>\n",
       "      <td>2020-12-23 00:00:01</td>\n",
       "      <td>00:00:01</td>\n",
       "      <td>0.016667</td>\n",
       "      <td>0.016667</td>\n",
       "    </tr>\n",
       "    <tr>\n",
       "      <th>15</th>\n",
       "      <td>2020-12-19 00:00:10</td>\n",
       "      <td>00:00:10</td>\n",
       "      <td>0.166667</td>\n",
       "      <td>0.150000</td>\n",
       "    </tr>\n",
       "    <tr>\n",
       "      <th>16</th>\n",
       "      <td>2020-12-27 00:00:11</td>\n",
       "      <td>00:00:11</td>\n",
       "      <td>0.183333</td>\n",
       "      <td>0.016667</td>\n",
       "    </tr>\n",
       "    <tr>\n",
       "      <th>17</th>\n",
       "      <td>2022-07-17 00:00:14</td>\n",
       "      <td>00:00:14</td>\n",
       "      <td>0.233333</td>\n",
       "      <td>0.050000</td>\n",
       "    </tr>\n",
       "  </tbody>\n",
       "</table>\n",
       "</div>"
      ],
      "text/plain": [
       "            Start_Time      time  elapsed_since_midnight  time_diff\n",
       "0  2021-01-27 00:00:00  00:00:00                0.000000        NaN\n",
       "13 2020-12-23 00:00:01  00:00:01                0.016667   0.016667\n",
       "15 2020-12-19 00:00:10  00:00:10                0.166667   0.150000\n",
       "16 2020-12-27 00:00:11  00:00:11                0.183333   0.016667\n",
       "17 2022-07-17 00:00:14  00:00:14                0.233333   0.050000"
      ]
     },
     "execution_count": 105,
     "metadata": {},
     "output_type": "execute_result"
    }
   ],
   "source": [
    "df_miami_time_dedup[['Start_Time','time','elapsed_since_midnight','time_diff']].head(5)"
   ]
  },
  {
   "cell_type": "markdown",
   "id": "5978277b-bf33-4020-a4bf-95949ad59704",
   "metadata": {},
   "source": [
    "Now let's plot the time diff CDF again."
   ]
  },
  {
   "cell_type": "code",
   "execution_count": 107,
   "id": "37d55a62-7910-435a-a151-68c7f8d9292d",
   "metadata": {},
   "outputs": [
    {
     "data": {
      "image/png": "[encoded data removed]",
      "text/plain": [
       "<Figure size 640x480 with 1 Axes>"
      ]
     },
     "metadata": {},
     "output_type": "display_data"
    }
   ],
   "source": [
    "cdf_time = thinkstats2.Cdf(df_miami_time_dedup.time_diff, label=\"Miami,FL Car Accidents\")\n",
    "thinkplot.Cdf(cdf_time)\n",
    "thinkplot.Config(xlabel=\"Time between car accidents(minutes)\", ylabel=\"cdf\")"
   ]
  },
  {
   "cell_type": "markdown",
   "id": "47931f71-ccfe-47be-9733-5c7b2a734318",
   "metadata": {},
   "source": [
    "Still, the graph looks like an exponential distribution with relatively large $\\lambda$. Let's take a look at the complementary CDF."
   ]
  },
  {
   "cell_type": "code",
   "execution_count": 109,
   "id": "ce8abab8-438c-4f59-a589-178050e39b77",
   "metadata": {},
   "outputs": [
    {
     "data": {
      "image/png": "[encoded data removed]",
      "text/plain": [
       "<Figure size 640x480 with 1 Axes>"
      ]
     },
     "metadata": {},
     "output_type": "display_data"
    }
   ],
   "source": [
    "thinkplot.Cdf(cdf_time, complement=True)\n",
    "thinkplot.Config(\n",
    "    xlabel=\"Time between car accidents(minutes)\",\n",
    "    ylabel=\"CCDF\",\n",
    "    yscale=\"log\"\n",
    ")"
   ]
  },
  {
   "cell_type": "markdown",
   "id": "511f670d-e4aa-4236-8227-81b034d136f8",
   "metadata": {},
   "source": [
    "The graph looks like a straight-line trended steps. I would say exponential distribution model will work good for time between car accidents for our database."
   ]
  },
  {
   "cell_type": "markdown",
   "id": "753fbaac-8d26-4025-8541-f1674a78340c",
   "metadata": {},
   "source": [
    "### Scatter Plots"
   ]
  },
  {
   "cell_type": "markdown",
   "id": "72589956-b8df-4540-9acb-c0d1cf9fbc0e",
   "metadata": {},
   "source": [
    "For this analysis, let's take a look at the scatter plots of Temperature(F) and Wind_Speed(mph), Humidity(%) and Precipitation(in) and see if there's relationship. I will also include the saturation to the plot so the overlapping effect is reduced to show the true scatter."
   ]
  },
  {
   "cell_type": "code",
   "execution_count": 113,
   "id": "491e9cd2-5cc1-48d2-8a05-c313d5ff176a",
   "metadata": {},
   "outputs": [
    {
     "data": {
      "image/png": "[encoded data removed]",
      "text/plain": [
       "<Figure size 640x480 with 1 Axes>"
      ]
     },
     "metadata": {},
     "output_type": "display_data"
    },
    {
     "data": {
      "text/plain": [
       "<Figure size 800x600 with 0 Axes>"
      ]
     },
     "metadata": {},
     "output_type": "display_data"
    }
   ],
   "source": [
    "thinkplot.Scatter(df_miami['Wind_Speed(mph)'], df_miami['Temperature(F)'], alpha = 0.1)\n",
    "thinkplot.Show(xlabel = 'Wind_Speed(mph)', ylabel='Temperature(F)')"
   ]
  },
  {
   "cell_type": "markdown",
   "id": "c26860fd-19e7-444f-b167-783b610f99e8",
   "metadata": {},
   "source": [
    "First, there's no non-linear relationship in this plot as there's no non-straight-line pattern in this graph. There's no clear indication that high wind speed tend to have low temperature for the Miami,FL car accidents data. Quite the opposite, the scatter plot shows that high wind speed tend to have higher temperature. At the low wind speed, however, there's wide spread of temperature, indicating the relationship is weak."
   ]
  },
  {
   "cell_type": "markdown",
   "id": "4448a6df-e659-4a4b-83c5-9d645b6557b2",
   "metadata": {},
   "source": [
    "Since we used the whole dataset of the Miami, FL accidents, let's try the hexbin plot to make the relasionship clearer."
   ]
  },
  {
   "cell_type": "code",
   "execution_count": 116,
   "id": "5ea738c8-8303-4389-9959-8dc4006f7223",
   "metadata": {},
   "outputs": [
    {
     "data": {
      "image/png": "[encoded data removed]",
      "text/plain": [
       "<Figure size 640x480 with 1 Axes>"
      ]
     },
     "metadata": {},
     "output_type": "display_data"
    }
   ],
   "source": [
    "thinkplot.HexBin(df_miami['Wind_Speed(mph)'], df_miami['Temperature(F)'])\n",
    "thinkplot.Config(xlabel = 'Wind_Speed(mph)', ylabel='Temperature(F)')"
   ]
  },
  {
   "cell_type": "markdown",
   "id": "2b9e949e-dfc7-4ca4-8e0b-1292e5fbca14",
   "metadata": {},
   "source": [
    "One thing we can notice from the HexBin plot is that it's clear the majority of the data is around 80 degrees, regardless of the wind speed, which makes sense as Miami,FL is around that heat year around, and the positive relationship between the higher wind speed and high temperature is less clear."
   ]
  },
  {
   "cell_type": "code",
   "execution_count": 118,
   "id": "ecaeb12b-a0aa-47bd-9dc2-db32d613d329",
   "metadata": {},
   "outputs": [
    {
     "data": {
      "image/png": "[encoded data removed]",
      "text/plain": [
       "<Figure size 640x480 with 1 Axes>"
      ]
     },
     "metadata": {},
     "output_type": "display_data"
    },
    {
     "data": {
      "text/plain": [
       "<Figure size 800x600 with 0 Axes>"
      ]
     },
     "metadata": {},
     "output_type": "display_data"
    }
   ],
   "source": [
    "thinkplot.Scatter(df_miami['Precipitation(in)'], df_miami['Humidity(%)'], alpha = 0.1)\n",
    "thinkplot.Show(xlabel = 'Precipitation(in)', ylabel='Humidity(%)')"
   ]
  },
  {
   "cell_type": "markdown",
   "id": "9c8b75a0-e22c-4d09-b186-f319985944fe",
   "metadata": {},
   "source": [
    "First, there's no non-linear relationship in this plot as there's no non-straight-line pattern in this graph. The plot above indicates there's no clear linear relationship between precipitation and humidity in the Miami, FL car accidents data. However, we can tell that as precipitation increases, humidity tends to increase for some of the outliers."
   ]
  },
  {
   "cell_type": "code",
   "execution_count": 120,
   "id": "0fa791ba-24c7-4bfb-aca9-0d116e1eecad",
   "metadata": {},
   "outputs": [
    {
     "data": {
      "image/png": "[encoded data removed]",
      "text/plain": [
       "<Figure size 640x480 with 1 Axes>"
      ]
     },
     "metadata": {},
     "output_type": "display_data"
    }
   ],
   "source": [
    "thinkplot.HexBin(df_miami['Precipitation(in)'], df_miami['Humidity(%)'])\n",
    "thinkplot.Config(xlabel = 'Precipitation(in)', ylabel='Humidity(%)')"
   ]
  },
  {
   "cell_type": "markdown",
   "id": "9b3f4c21-6120-42e1-ae9a-2d03438b9c96",
   "metadata": {},
   "source": [
    "Drawing the HexBin plot, we can tell the humidity and precipitation have no major correlation in our Miami,FL car accidents dataset. "
   ]
  },
  {
   "cell_type": "markdown",
   "id": "65d52f76-c418-4108-aadf-4b7f03271253",
   "metadata": {},
   "source": [
    "Now let's take a look at the covariance. Before we do, let's get rid of the null values."
   ]
  },
  {
   "cell_type": "code",
   "execution_count": 123,
   "id": "6960911b-9d57-474d-bce2-561566498a8f",
   "metadata": {},
   "outputs": [
    {
     "name": "stdout",
     "output_type": "stream",
     "text": [
      "Covariance of Wind_Speed(mph) and Temperature(F): 9.082829748763125 \n",
      "Covariance of Precipitation(in) and Humidity(%): 0.19809595334054306\n"
     ]
    }
   ],
   "source": [
    "df_miami_cleand = df_miami.dropna(subset=['Wind_Speed(mph)','Temperature(F)','Precipitation(in)','Humidity(%)'])\n",
    "\n",
    "print('Covariance of Wind_Speed(mph) and Temperature(F):',  thinkstats2.Cov(df_miami_cleand['Wind_Speed(mph)'], df_miami_cleand['Temperature(F)']),\n",
    "      '\\nCovariance of Precipitation(in) and Humidity(%):',  thinkstats2.Cov(df_miami_cleand['Precipitation(in)'], df_miami_cleand['Humidity(%)']))"
   ]
  },
  {
   "cell_type": "markdown",
   "id": "47ae7ddb-60c5-4e61-8038-edb4f8d6f2b8",
   "metadata": {},
   "source": [
    "As we can see from the data, both pairs have positive covariance, meaning the two variables in each group tend to move in the same direction."
   ]
  },
  {
   "cell_type": "code",
   "execution_count": 125,
   "id": "0651541c-e5ce-4965-916d-0c6d658074f1",
   "metadata": {},
   "outputs": [
    {
     "name": "stdout",
     "output_type": "stream",
     "text": [
      "Pearson's correlation of Wind_Speed(mph) and Temperature(F): 0.24198505037254636 \n",
      "Pearson's correlation of Precipitation(in) and Humidity(%): 0.18664569152377303\n"
     ]
    }
   ],
   "source": [
    "print('Pearson\\'s correlation of Wind_Speed(mph) and Temperature(F):',  \n",
    "      thinkstats2.Corr(df_miami_cleand['Wind_Speed(mph)'], df_miami_cleand['Temperature(F)']),\n",
    "      '\\nPearson\\'s correlation of Precipitation(in) and Humidity(%):',  \n",
    "      thinkstats2.Corr(df_miami_cleand['Precipitation(in)'], df_miami_cleand['Humidity(%)']))"
   ]
  },
  {
   "cell_type": "markdown",
   "id": "7bef1c13-7337-4238-8a3a-aa5829b19c6d",
   "metadata": {},
   "source": [
    "Not surprising, both groups have positive correlation, but with weak strength. Since the variables are not normal and there's presence of outliers, Pearson's correlation is not robust. Let's take a look at the Spearman's rank correlation."
   ]
  },
  {
   "cell_type": "code",
   "execution_count": 127,
   "id": "b8e23046-7b6b-483f-b630-69bd36130bdf",
   "metadata": {},
   "outputs": [
    {
     "name": "stdout",
     "output_type": "stream",
     "text": [
      "Spearman's rank correlation of Wind_Speed(mph) and Temperature(F): 0.2659487208079751 \n",
      "Spearman's rank correlation of Precipitation(in) and Humidity(%): 0.3401587005587108\n"
     ]
    }
   ],
   "source": [
    "print('Spearman\\'s rank correlation of Wind_Speed(mph) and Temperature(F):',  \n",
    "      thinkstats2.SpearmanCorr(df_miami_cleand['Wind_Speed(mph)'], df_miami_cleand['Temperature(F)']),\n",
    "      '\\nSpearman\\'s rank correlation of Precipitation(in) and Humidity(%):',  \n",
    "      thinkstats2.SpearmanCorr(df_miami_cleand['Precipitation(in)'], df_miami_cleand['Humidity(%)']))"
   ]
  },
  {
   "cell_type": "markdown",
   "id": "973696de-a90f-4f66-894b-f7128419dd71",
   "metadata": {},
   "source": [
    "The Spearman's rank correlation of Wind_Speed(mph) and Temperature(F) increased by a little, whereas of Precipitation(in) and Humidity(%) almost doubled. although still shows weak strength."
   ]
  },
  {
   "cell_type": "markdown",
   "id": "1a2a7223-8464-4f84-b4d0-d9063f9c59fd",
   "metadata": {},
   "source": [
    "## Step 3: Hypothesis Testing"
   ]
  },
  {
   "cell_type": "markdown",
   "id": "e13efa71-f4b3-493c-b2f1-6ca5dbf8c724",
   "metadata": {},
   "source": [
    "To answer the question for hypothesis testing about 'Given the sample and an apparent effect, what is the probability of seeing such an effect by chance, let's first define the test statistic. We see 2 variables that are helpful for answering our hypothesis question: Distance(mi) or Severity. Since we have seen the average Distance(mi) and Severity both are larger during the night than during the day, however because the Severity has much larger Cohen Effect Size than the Distance(mi), we can use do hypothesis on the Severity. Although, we have to keep in mind that statistically significant does not alway mean that an effect is important, or significant in practice. Since the Severity is categorical, we use chi-squared statistic."
   ]
  },
  {
   "cell_type": "code",
   "execution_count": 131,
   "id": "40c4a9cb-89be-430d-8996-313c649a0e2e",
   "metadata": {},
   "outputs": [],
   "source": [
    "class SeverityTest(thinkstats2.HypothesisTest):\n",
    "\n",
    "    def MakeModel(self):\n",
    "        day, night = self.data\n",
    "        self.n = len(day)\n",
    "        self.pool = np.hstack((day, night))\n",
    "\n",
    "        pmf = thinkstats2.Pmf(self.pool)\n",
    "        self.values = list(df_miami.Severity.unique())\n",
    "        self.expected_probs = np.array(pmf.Probs(self.values))\n",
    "\n",
    "    def RunModel(self):\n",
    "        np.random.shuffle(self.pool)\n",
    "        data = self.pool[:self.n], self.pool[self.n:]\n",
    "        return data\n",
    "    \n",
    "    def TestStatistic(self, data):\n",
    "        day, night = data\n",
    "        stat = self.ChiSquared(day) + self.ChiSquared(night)\n",
    "        return stat\n",
    "\n",
    "    def ChiSquared(self, severity):\n",
    "        hist = thinkstats2.Hist(severity)\n",
    "        observed = np.array(hist.Freqs(self.values))\n",
    "        expected = self.expected_probs * len(severity)\n",
    "        stat = sum((observed - expected)**2 / expected)\n",
    "        return stat"
   ]
  },
  {
   "cell_type": "markdown",
   "id": "0cf3371f-b07a-4c66-8613-2439547092f9",
   "metadata": {},
   "source": [
    "For the null hypothesis, it will be that there is no difference between day and night car accidents severity distribution; that is, there is no significant association between the time of day (day or night) and the severity of car accidents."
   ]
  },
  {
   "cell_type": "code",
   "execution_count": 133,
   "id": "af2a8dba-bb02-4876-b4ad-d9a6d7827d4c",
   "metadata": {},
   "outputs": [
    {
     "data": {
      "text/plain": [
       "0.0"
      ]
     },
     "execution_count": 133,
     "metadata": {},
     "output_type": "execute_result"
    }
   ],
   "source": [
    "data = day.Severity.values, night.Severity.values\n",
    "ht = SeverityTest(data)\n",
    "ht.PValue()"
   ]
  },
  {
   "cell_type": "markdown",
   "id": "4c9256b6-6301-4a37-9c03-1387972f59ed",
   "metadata": {},
   "source": [
    "According to the p-value, the probability of seeing the apparent effect if the null hypothesis is true is super low and the effect is therefore statitically significant, which means that it is unlikely to have occured by chance. In that case we infer that the effect is more likely to appear in the larger population."
   ]
  },
  {
   "cell_type": "markdown",
   "id": "c1692fde-ec74-4a2c-874b-bc3c2b759ed1",
   "metadata": {},
   "source": [
    "While the chi-squared test indicate a relationship between time of day and accident severity, it does not directly measure the likelihood of accident occurring at night versus during the day. Therefore, let's also do a one-sided test of the mean of the Distance(mi)."
   ]
  },
  {
   "cell_type": "code",
   "execution_count": 136,
   "id": "4cbc1b7a-ab03-401f-aa14-77dbfb0719d4",
   "metadata": {},
   "outputs": [],
   "source": [
    "class DiffMeansOneSided(thinkstats2.HypothesisTest):\n",
    "\n",
    "    def TestStatistic(self, data):\n",
    "        night, day = data\n",
    "        test_stat = night.mean() - day.mean()\n",
    "        return test_stat\n",
    "\n",
    "    def MakeModel(self):\n",
    "        night, day = self.data\n",
    "        self.n, self.m = len(night), len(day)\n",
    "        self.pool = np.hstack((night, day))\n",
    "\n",
    "    def RunModel(self):\n",
    "        np.random.shuffle(self.pool)\n",
    "        data = self.pool[:self.n], self.pool[self.n:]\n",
    "        return data"
   ]
  },
  {
   "cell_type": "code",
   "execution_count": 137,
   "id": "1ad45995-dcdf-452f-a71a-0b15269bf813",
   "metadata": {},
   "outputs": [
    {
     "data": {
      "text/plain": [
       "0.0"
      ]
     },
     "execution_count": 137,
     "metadata": {},
     "output_type": "execute_result"
    }
   ],
   "source": [
    "data = night.Severity.values, day.Severity.values\n",
    "ht = DiffMeansOneSided(data)\n",
    "ht.PValue()"
   ]
  },
  {
   "cell_type": "markdown",
   "id": "f6d6d258-3be1-4511-bb08-6969d0e3c640",
   "metadata": {},
   "source": [
    "The p value of is still below 0.05, which confirms our hypothesis that it's more likely to have severe car accidents during the night than during the day."
   ]
  },
  {
   "cell_type": "markdown",
   "id": "49090912-013c-4452-a07c-f3e8db11b1da",
   "metadata": {},
   "source": [
    "## Step 4: Regression Analysis"
   ]
  },
  {
   "cell_type": "markdown",
   "id": "4e9e6f92-2a42-42e6-ac1e-bb080d14fc70",
   "metadata": {},
   "source": [
    "Since we explored the Wind_Speed(mph) and Temperature(F) variables and their relationship ealier in the analysis, let's build a simple linear regression model and see the model summary."
   ]
  },
  {
   "cell_type": "code",
   "execution_count": 141,
   "id": "d7c7ad04-1ff0-49f2-adb7-3545d07aa4ec",
   "metadata": {},
   "outputs": [
    {
     "data": {
      "text/html": [
       "<table class=\"simpletable\">\n",
       "<caption>OLS Regression Results</caption>\n",
       "<tr>\n",
       "  <th>Dep. Variable:</th>    <td>Q(\"Temperature(F)\")</td> <th>  R-squared:         </th>  <td>   0.059</td>  \n",
       "</tr>\n",
       "<tr>\n",
       "  <th>Model:</th>                    <td>OLS</td>         <th>  Adj. R-squared:    </th>  <td>   0.059</td>  \n",
       "</tr>\n",
       "<tr>\n",
       "  <th>Method:</th>              <td>Least Squares</td>    <th>  F-statistic:       </th>  <td>1.009e+04</td> \n",
       "</tr>\n",
       "<tr>\n",
       "  <th>Date:</th>              <td>Mon, 05 Aug 2024</td>   <th>  Prob (F-statistic):</th>   <td>  0.00</td>   \n",
       "</tr>\n",
       "<tr>\n",
       "  <th>Time:</th>                  <td>17:39:43</td>       <th>  Log-Likelihood:    </th> <td>-5.5090e+05</td>\n",
       "</tr>\n",
       "<tr>\n",
       "  <th>No. Observations:</th>       <td>162158</td>        <th>  AIC:               </th>  <td>1.102e+06</td> \n",
       "</tr>\n",
       "<tr>\n",
       "  <th>Df Residuals:</th>           <td>162156</td>        <th>  BIC:               </th>  <td>1.102e+06</td> \n",
       "</tr>\n",
       "<tr>\n",
       "  <th>Df Model:</th>               <td>     1</td>        <th>                     </th>      <td> </td>     \n",
       "</tr>\n",
       "<tr>\n",
       "  <th>Covariance Type:</th>       <td>nonrobust</td>      <th>                     </th>      <td> </td>     \n",
       "</tr>\n",
       "</table>\n",
       "<table class=\"simpletable\">\n",
       "<tr>\n",
       "            <td></td>              <th>coef</th>     <th>std err</th>      <th>t</th>      <th>P>|t|</th>  <th>[0.025</th>    <th>0.975]</th>  \n",
       "</tr>\n",
       "<tr>\n",
       "  <th>Intercept</th>            <td>   75.2275</td> <td>    0.037</td> <td> 2007.894</td> <td> 0.000</td> <td>   75.154</td> <td>   75.301</td>\n",
       "</tr>\n",
       "<tr>\n",
       "  <th>Q(\"Wind_Speed(mph)\")</th> <td>    0.3581</td> <td>    0.004</td> <td>  100.429</td> <td> 0.000</td> <td>    0.351</td> <td>    0.365</td>\n",
       "</tr>\n",
       "</table>\n",
       "<table class=\"simpletable\">\n",
       "<tr>\n",
       "  <th>Omnibus:</th>       <td>20540.061</td> <th>  Durbin-Watson:     </th> <td>   1.619</td> \n",
       "</tr>\n",
       "<tr>\n",
       "  <th>Prob(Omnibus):</th>  <td> 0.000</td>   <th>  Jarque-Bera (JB):  </th> <td>35943.022</td>\n",
       "</tr>\n",
       "<tr>\n",
       "  <th>Skew:</th>           <td>-0.851</td>   <th>  Prob(JB):          </th> <td>    0.00</td> \n",
       "</tr>\n",
       "<tr>\n",
       "  <th>Kurtosis:</th>       <td> 4.557</td>   <th>  Cond. No.          </th> <td>    22.1</td> \n",
       "</tr>\n",
       "</table><br/><br/>Notes:<br/>[1] Standard Errors assume that the covariance matrix of the errors is correctly specified."
      ],
      "text/latex": [
       "\\begin{center}\n",
       "\\begin{tabular}{lclc}\n",
       "\\toprule\n",
       "\\textbf{Dep. Variable:}        & Q(\"Temperature(F)\") & \\textbf{  R-squared:         } &      0.059   \\\\\n",
       "\\textbf{Model:}                &         OLS         & \\textbf{  Adj. R-squared:    } &      0.059   \\\\\n",
       "\\textbf{Method:}               &    Least Squares    & \\textbf{  F-statistic:       } &  1.009e+04   \\\\\n",
       "\\textbf{Date:}                 &   Mon, 05 Aug 2024  & \\textbf{  Prob (F-statistic):} &      0.00    \\\\\n",
       "\\textbf{Time:}                 &       17:39:43      & \\textbf{  Log-Likelihood:    } & -5.5090e+05  \\\\\n",
       "\\textbf{No. Observations:}     &        162158       & \\textbf{  AIC:               } &  1.102e+06   \\\\\n",
       "\\textbf{Df Residuals:}         &        162156       & \\textbf{  BIC:               } &  1.102e+06   \\\\\n",
       "\\textbf{Df Model:}             &             1       & \\textbf{                     } &              \\\\\n",
       "\\textbf{Covariance Type:}      &      nonrobust      & \\textbf{                     } &              \\\\\n",
       "\\bottomrule\n",
       "\\end{tabular}\n",
       "\\begin{tabular}{lcccccc}\n",
       "                               & \\textbf{coef} & \\textbf{std err} & \\textbf{t} & \\textbf{P$> |$t$|$} & \\textbf{[0.025} & \\textbf{0.975]}  \\\\\n",
       "\\midrule\n",
       "\\textbf{Intercept}             &      75.2275  &        0.037     &  2007.894  &         0.000        &       75.154    &       75.301     \\\\\n",
       "\\textbf{Q(\"Wind\\_Speed(mph)\")} &       0.3581  &        0.004     &   100.429  &         0.000        &        0.351    &        0.365     \\\\\n",
       "\\bottomrule\n",
       "\\end{tabular}\n",
       "\\begin{tabular}{lclc}\n",
       "\\textbf{Omnibus:}       & 20540.061 & \\textbf{  Durbin-Watson:     } &     1.619  \\\\\n",
       "\\textbf{Prob(Omnibus):} &    0.000  & \\textbf{  Jarque-Bera (JB):  } & 35943.022  \\\\\n",
       "\\textbf{Skew:}          &   -0.851  & \\textbf{  Prob(JB):          } &      0.00  \\\\\n",
       "\\textbf{Kurtosis:}      &    4.557  & \\textbf{  Cond. No.          } &      22.1  \\\\\n",
       "\\bottomrule\n",
       "\\end{tabular}\n",
       "%\\caption{OLS Regression Results}\n",
       "\\end{center}\n",
       "\n",
       "Notes: \\newline\n",
       " [1] Standard Errors assume that the covariance matrix of the errors is correctly specified."
      ],
      "text/plain": [
       "<class 'statsmodels.iolib.summary.Summary'>\n",
       "\"\"\"\n",
       "                             OLS Regression Results                            \n",
       "===============================================================================\n",
       "Dep. Variable:     Q(\"Temperature(F)\")   R-squared:                       0.059\n",
       "Model:                             OLS   Adj. R-squared:                  0.059\n",
       "Method:                  Least Squares   F-statistic:                 1.009e+04\n",
       "Date:                 Mon, 05 Aug 2024   Prob (F-statistic):               0.00\n",
       "Time:                         17:39:43   Log-Likelihood:            -5.5090e+05\n",
       "No. Observations:               162158   AIC:                         1.102e+06\n",
       "Df Residuals:                   162156   BIC:                         1.102e+06\n",
       "Df Model:                            1                                         \n",
       "Covariance Type:             nonrobust                                         \n",
       "========================================================================================\n",
       "                           coef    std err          t      P>|t|      [0.025      0.975]\n",
       "----------------------------------------------------------------------------------------\n",
       "Intercept               75.2275      0.037   2007.894      0.000      75.154      75.301\n",
       "Q(\"Wind_Speed(mph)\")     0.3581      0.004    100.429      0.000       0.351       0.365\n",
       "==============================================================================\n",
       "Omnibus:                    20540.061   Durbin-Watson:                   1.619\n",
       "Prob(Omnibus):                  0.000   Jarque-Bera (JB):            35943.022\n",
       "Skew:                          -0.851   Prob(JB):                         0.00\n",
       "Kurtosis:                       4.557   Cond. No.                         22.1\n",
       "==============================================================================\n",
       "\n",
       "Notes:\n",
       "[1] Standard Errors assume that the covariance matrix of the errors is correctly specified.\n",
       "\"\"\""
      ]
     },
     "execution_count": 141,
     "metadata": {},
     "output_type": "execute_result"
    }
   ],
   "source": [
    "import statsmodels.formula.api as smf\n",
    "\n",
    "formula = 'Q(\"Temperature(F)\") ~ Q(\"Wind_Speed(mph)\")'\n",
    "model = smf.ols(formula, data = df_miami_cleand)\n",
    "results = model.fit()\n",
    "results.summary()"
   ]
  },
  {
   "cell_type": "markdown",
   "id": "6c178a3a-5f13-4d19-9f0d-ca6b26c223a3",
   "metadata": {},
   "source": [
    "As we can see the R squared and adjusted R squared are both 0.059, meaning a very small percentage of the variability in the Temperature(F) is explained by the Wind_Speed(mph). However, the p value of 0.000 for both the intercept and the predictor variable indicate they are statitically significant. When wind speed is 0 mph, the expected temperature is 75.2F. The p value of 0 provides evidence against the null hypothesis that the coefficient of wind speed is 0 mph. When wind speed increases or decreases by 1 mph, the temperature is expected to increase or decrease by 0.36F."
   ]
  }
 ],
 "metadata": {
  "kernelspec": {
   "display_name": "Python 3 (ipykernel)",
   "language": "python",
   "name": "python3"
  },
  "language_info": {
   "codemirror_mode": {
    "name": "ipython",
    "version": 3
   },
   "file_extension": ".py",
   "mimetype": "text/x-python",
   "name": "python",
   "nbconvert_exporter": "python",
   "pygments_lexer": "ipython3",
   "version": "3.11.7"
  }
 },
 "nbformat": 4,
 "nbformat_minor": 5
}
